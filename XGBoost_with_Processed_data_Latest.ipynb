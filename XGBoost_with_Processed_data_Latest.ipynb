{
  "nbformat": 4,
  "nbformat_minor": 0,
  "metadata": {
    "colab": {
      "name": "XGBoost with Processed data-Latest.ipynb",
      "version": "0.3.2",
      "provenance": [],
      "collapsed_sections": [],
      "include_colab_link": true
    },
    "kernelspec": {
      "name": "python3",
      "display_name": "Python 3"
    }
  },
  "cells": [
    {
      "cell_type": "markdown",
      "metadata": {
        "id": "view-in-github",
        "colab_type": "text"
      },
      "source": [
        "<a href=\"https://colab.research.google.com/github/sameershinde14/ToxicCommentsChallengeKaggle/blob/master/XGBoost_with_Processed_data_Latest.ipynb\" target=\"_parent\"><img src=\"https://colab.research.google.com/assets/colab-badge.svg\" alt=\"Open In Colab\"/></a>"
      ]
    },
    {
      "cell_type": "code",
      "metadata": {
        "id": "sQQgzFJMJCJ1",
        "colab_type": "code",
        "colab": {}
      },
      "source": [
        "from pickle_util import load_pickles\n",
        "from sklearn.feature_extraction.text import TfidfVectorizer, CountVectorizer, HashingVectorizer\n",
        "from matplotlib import pyplot as plt\n",
        "from sklearn.model_selection import PredefinedSplit\n",
        "from sklearn.model_selection import GridSearchCV\n",
        "from xgboost import XGBClassifier\n",
        "from scipy.sparse import vstack\n",
        "import numpy as np\n",
        "from sklearn.feature_extraction.text import TfidfVectorizer\n",
        "from sklearn.linear_model import LogisticRegression\n",
        "from sklearn.model_selection import PredefinedSplit\n",
        "import matplotlib.pyplot as plt\n",
        "import pandas as pd\n",
        "import numpy as np\n",
        "from sklearn.model_selection import GridSearchCV\n",
        "from sklearn.metrics import roc_curve, auc\n",
        "from scipy.sparse import vstack"
      ],
      "execution_count": 0,
      "outputs": []
    },
    {
      "cell_type": "code",
      "metadata": {
        "id": "pgTUmFRJJPcV",
        "colab_type": "code",
        "colab": {}
      },
      "source": [
        "x_classes = [\"comment_text\"]\n",
        "y_classes = [\"toxic\", \"severe_toxic\", \"obscene\", \"threat\", \"insult\", \"identity_threat\"]"
      ],
      "execution_count": 0,
      "outputs": []
    },
    {
      "cell_type": "code",
      "metadata": {
        "id": "7Mp22TsbJlpx",
        "colab_type": "code",
        "colab": {}
      },
      "source": [
        "(\n",
        "    train_x,\n",
        "    valid_x,\n",
        "    test_x,\n",
        "    train_y,\n",
        "    valid_y,\n",
        "    test_y\n",
        ") = load_pickles()"
      ],
      "execution_count": 0,
      "outputs": []
    },
    {
      "cell_type": "code",
      "metadata": {
        "id": "k3alH17_Jn1Z",
        "colab_type": "code",
        "colab": {}
      },
      "source": [
        "word_vectorizer = TfidfVectorizer(lowercase=False,ngram_range=(1,3),max_features=20000)\n",
        "word_vectorizer = word_vectorizer.fit(train_x[\"comment_text\"])\n",
        "train_features = word_vectorizer.transform(train_x[\"comment_text\"])\n",
        "validation_features = word_vectorizer.transform(valid_x[\"comment_text\"])\n",
        "test_features = word_vectorizer.transform(test_x[\"comment_text\"])"
      ],
      "execution_count": 0,
      "outputs": []
    },
    {
      "cell_type": "code",
      "metadata": {
        "id": "DxBsJRREtfCh",
        "colab_type": "code",
        "colab": {}
      },
      "source": [
        "train_y_list = train_y.values\n",
        "valid_y_list = valid_y.values"
      ],
      "execution_count": 0,
      "outputs": []
    },
    {
      "cell_type": "code",
      "metadata": {
        "id": "xuJqCmNQXl4P",
        "colab_type": "code",
        "outputId": "891c3ca8-ded1-4898-fae6-fb1f75cf053e",
        "colab": {
          "base_uri": "https://localhost:8080/",
          "height": 323
        }
      },
      "source": [
        "# penalty = ['l1', 'l2']\n",
        "# max_iter = [8, 10, 20, 40, 100]\n",
        "# C = np.logspace(0, 4, 10)\n",
        "params = {\n",
        "        'min_child_weight': [1],\n",
        "        #'gamma': [0.5, 1],\n",
        "#         'subsample': [0.6, 0.8, 1.0],\n",
        "#         'colsample_bytree': [0.6, 0.8, 1.0],\n",
        "         'max_depth': [3]\n",
        "        }\n",
        "\n",
        "\n",
        "# hyperparameters = dict(C=C, penalty=penalty, max_iter=max_iter)\n",
        "# model = LogisticRegression(solver='liblinear')\n",
        "\n",
        "model = XGBClassifier(learning_rate=0.02, n_estimators=600, objective='binary:logistic',\n",
        "                    silent=True, nthread=1)\n",
        "\n",
        "ps = PredefinedSplit(test_fold=[-1]*train_features.shape[0] + [0]*validation_features.shape[0])\n",
        "\n",
        "val_aucs = []\n",
        "train_aucs = []\n",
        "best_params = []\n",
        "\n",
        "X = vstack((train_features,validation_features))\n",
        "Y = np.concatenate((train_y_list, valid_y_list))\n",
        "\n",
        "for i in range(len(y_classes)):\n",
        "    #classifier = GridSearchCV(model, hyperparameters, scoring='roc_auc', cv=ps, verbose=0)\n",
        "    classifier = GridSearchCV(estimator=model, param_grid=params, scoring='roc_auc', n_jobs=32, cv=ps, verbose=3 )\n",
        "    \n",
        "    classifier = classifier.fit(X, Y[:, i])\n",
        "\n",
        "    valid_y_hat = classifier.predict_proba(validation_features)[:, 1]\n",
        "    fpr, tpr, thresholds = roc_curve(valid_y_list[:, i], valid_y_hat)\n",
        "    val_aucs.append(auc(fpr, tpr))\n",
        "\n",
        "    train_y_hat = classifier.predict_proba(train_features)[:, 1]\n",
        "    fpr, tpr, thresholds = roc_curve(train_y_list[:, i], train_y_hat)\n",
        "    train_aucs.append(auc(fpr, tpr))\n",
        "    \n",
        "    best_params.append(classifier.best_params_)"
      ],
      "execution_count": 10,
      "outputs": [
        {
          "output_type": "stream",
          "text": [
            "Fitting 1 folds for each of 1 candidates, totalling 1 fits\n"
          ],
          "name": "stdout"
        },
        {
          "output_type": "stream",
          "text": [
            "[Parallel(n_jobs=32)]: Using backend LokyBackend with 32 concurrent workers.\n",
            "[Parallel(n_jobs=32)]: Done   1 out of   1 | elapsed:  6.6min finished\n"
          ],
          "name": "stderr"
        },
        {
          "output_type": "stream",
          "text": [
            "Fitting 1 folds for each of 1 candidates, totalling 1 fits\n"
          ],
          "name": "stdout"
        },
        {
          "output_type": "stream",
          "text": [
            "[Parallel(n_jobs=32)]: Using backend LokyBackend with 32 concurrent workers.\n",
            "[Parallel(n_jobs=32)]: Done   1 out of   1 | elapsed:  5.8min finished\n"
          ],
          "name": "stderr"
        },
        {
          "output_type": "stream",
          "text": [
            "Fitting 1 folds for each of 1 candidates, totalling 1 fits\n"
          ],
          "name": "stdout"
        },
        {
          "output_type": "stream",
          "text": [
            "[Parallel(n_jobs=32)]: Using backend LokyBackend with 32 concurrent workers.\n",
            "[Parallel(n_jobs=32)]: Done   1 out of   1 | elapsed:  6.4min finished\n"
          ],
          "name": "stderr"
        },
        {
          "output_type": "stream",
          "text": [
            "Fitting 1 folds for each of 1 candidates, totalling 1 fits\n"
          ],
          "name": "stdout"
        },
        {
          "output_type": "stream",
          "text": [
            "[Parallel(n_jobs=32)]: Using backend LokyBackend with 32 concurrent workers.\n",
            "[Parallel(n_jobs=32)]: Done   1 out of   1 | elapsed:  5.6min finished\n"
          ],
          "name": "stderr"
        },
        {
          "output_type": "stream",
          "text": [
            "Fitting 1 folds for each of 1 candidates, totalling 1 fits\n"
          ],
          "name": "stdout"
        },
        {
          "output_type": "stream",
          "text": [
            "[Parallel(n_jobs=32)]: Using backend LokyBackend with 32 concurrent workers.\n",
            "[Parallel(n_jobs=32)]: Done   1 out of   1 | elapsed:  6.4min finished\n"
          ],
          "name": "stderr"
        },
        {
          "output_type": "stream",
          "text": [
            "Fitting 1 folds for each of 1 candidates, totalling 1 fits\n"
          ],
          "name": "stdout"
        },
        {
          "output_type": "stream",
          "text": [
            "[Parallel(n_jobs=32)]: Using backend LokyBackend with 32 concurrent workers.\n",
            "[Parallel(n_jobs=32)]: Done   1 out of   1 | elapsed:  5.9min finished\n"
          ],
          "name": "stderr"
        }
      ]
    },
    {
      "cell_type": "code",
      "metadata": {
        "id": "qypFPHOcAP6V",
        "colab_type": "code",
        "colab": {
          "base_uri": "https://localhost:8080/",
          "height": 34
        },
        "outputId": "794428ec-6376-499c-cd26-6d79c99b47f1"
      },
      "source": [
        "np.mean(val_aucs)"
      ],
      "execution_count": 13,
      "outputs": [
        {
          "output_type": "execute_result",
          "data": {
            "text/plain": [
              "0.9599960315949314"
            ]
          },
          "metadata": {
            "tags": []
          },
          "execution_count": 13
        }
      ]
    },
    {
      "cell_type": "code",
      "metadata": {
        "id": "IG_7Hho3ARip",
        "colab_type": "code",
        "colab": {
          "base_uri": "https://localhost:8080/",
          "height": 34
        },
        "outputId": "8e4efb05-0889-4521-d7b6-fea74905345d"
      },
      "source": [
        "np.mean(train_aucs)"
      ],
      "execution_count": 14,
      "outputs": [
        {
          "output_type": "execute_result",
          "data": {
            "text/plain": [
              "0.9638763795329138"
            ]
          },
          "metadata": {
            "tags": []
          },
          "execution_count": 14
        }
      ]
    },
    {
      "cell_type": "code",
      "metadata": {
        "id": "7sEAU_NrAZ2w",
        "colab_type": "code",
        "colab": {}
      },
      "source": [
        "y_hat = classifier.predict(test_features)"
      ],
      "execution_count": 0,
      "outputs": []
    },
    {
      "cell_type": "code",
      "metadata": {
        "id": "crkES-s4A1R4",
        "colab_type": "code",
        "colab": {}
      },
      "source": [
        "test_y_list = test_y.values"
      ],
      "execution_count": 0,
      "outputs": []
    },
    {
      "cell_type": "code",
      "metadata": {
        "id": "3Ucz4toKAo8P",
        "colab_type": "code",
        "colab": {}
      },
      "source": [
        "te_aucs = []\n",
        "for i in range(len(y_classes)):\n",
        "    test_y_hat = classifier.predict_proba(test_features)[:, 1]\n",
        "    fpr, tpr, thresholds = roc_curve(test_y_list[:, i], test_y_hat)\n",
        "    te_aucs.append(auc(fpr, tpr))"
      ],
      "execution_count": 0,
      "outputs": []
    },
    {
      "cell_type": "code",
      "metadata": {
        "id": "_IqKLgeYAyM3",
        "colab_type": "code",
        "colab": {
          "base_uri": "https://localhost:8080/",
          "height": 119
        },
        "outputId": "09f7c902-c452-4f33-ffa0-fb255e15b6a0"
      },
      "source": [
        "te_aucs"
      ],
      "execution_count": 27,
      "outputs": [
        {
          "output_type": "execute_result",
          "data": {
            "text/plain": [
              "[0.8496066877004322,\n",
              " 0.96013257436624,\n",
              " 0.8867155115346683,\n",
              " 0.8942077484848014,\n",
              " 0.8684608301190802,\n",
              " 0.961938604064096]"
            ]
          },
          "metadata": {
            "tags": []
          },
          "execution_count": 27
        }
      ]
    },
    {
      "cell_type": "code",
      "metadata": {
        "id": "A5XbEd_DA-gD",
        "colab_type": "code",
        "colab": {
          "base_uri": "https://localhost:8080/",
          "height": 34
        },
        "outputId": "88279b1b-644d-4547-b017-980033ff1407"
      },
      "source": [
        "np.mean(te_aucs)"
      ],
      "execution_count": 28,
      "outputs": [
        {
          "output_type": "execute_result",
          "data": {
            "text/plain": [
              "0.9035103260448863"
            ]
          },
          "metadata": {
            "tags": []
          },
          "execution_count": 28
        }
      ]
    },
    {
      "cell_type": "code",
      "metadata": {
        "id": "I-K6S5BsB9QJ",
        "colab_type": "code",
        "colab": {}
      },
      "source": [
        ""
      ],
      "execution_count": 0,
      "outputs": []
    }
  ]
}