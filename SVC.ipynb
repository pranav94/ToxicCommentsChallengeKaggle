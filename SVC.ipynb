{
 "cells": [
  {
   "cell_type": "code",
   "execution_count": 8,
   "metadata": {},
   "outputs": [],
   "source": [
    "from sklearn.feature_extraction.text import TfidfVectorizer\n",
    "from sklearn.svm import SVC\n",
    "from sklearn.model_selection import PredefinedSplit\n",
    "from sklearn.model_selection import GridSearchCV\n",
    "\n",
    "import matplotlib.pyplot as plt\n",
    "import pandas as pd\n",
    "import numpy as np\n",
    "from sklearn.metrics import roc_curve, auc\n",
    "from scipy.sparse import vstack\n",
    "\n",
    "from utils.pickle import load_pickles"
   ]
  },
  {
   "cell_type": "code",
   "execution_count": 2,
   "metadata": {},
   "outputs": [],
   "source": [
    "(\n",
    "    train_x,\n",
    "    valid_x,\n",
    "    test_x,\n",
    "    train_y,\n",
    "    valid_y,\n",
    "    test_y\n",
    ") = load_pickles()"
   ]
  },
  {
   "cell_type": "markdown",
   "metadata": {},
   "source": [
    "### Vectorize features"
   ]
  },
  {
   "cell_type": "code",
   "execution_count": 3,
   "metadata": {},
   "outputs": [],
   "source": [
    "word_vectorizer = TfidfVectorizer(lowercase=False,ngram_range=(1,3),max_features=20000)\n",
    "word_vectorizer = word_vectorizer.fit(train_x)\n",
    "train_features = word_vectorizer.transform(train_x)\n",
    "validation_features = word_vectorizer.transform(valid_x)"
   ]
  },
  {
   "cell_type": "markdown",
   "metadata": {},
   "source": [
    "### Grid search to find optimal hyperparameters"
   ]
  },
  {
   "cell_type": "code",
   "execution_count": null,
   "metadata": {},
   "outputs": [],
   "source": [
    "classes = 6\n",
    "gamma = [0.001, 0.01, 0.1, 1]\n",
    "kernel = ['linear', 'rbf']\n",
    "C = np.logspace(0, 4, 10)\n",
    "hyperparameters = dict(C=C, gamma=gamma, kernel=kernel)\n",
    "model = SVC(probability=True)\n",
    "\n",
    "ps = PredefinedSplit(test_fold=[-1]*train_features.shape[0] + [0]*validation_features.shape[0])\n",
    "\n",
    "val_aucs = []\n",
    "train_aucs = []\n",
    "best_params = []\n",
    "\n",
    "X = vstack((train_features,validation_features))\n",
    "Y = np.concatenate((train_y, valid_y))\n",
    "\n",
    "for i in range(classes):\n",
    "    classifier = GridSearchCV(model, hyperparameters, scoring='roc_auc', cv=ps, verbose=0)\n",
    "    classifier = classifier.fit(X, Y[:, i])\n",
    "\n",
    "    valid_y_hat = classifier.predict_proba(validation_features)[:, 1]\n",
    "    fpr, tpr, thresholds = roc_curve(valid_y[:, i], valid_y_hat)\n",
    "    val_aucs.append(auc(fpr, tpr))\n",
    "\n",
    "    train_y_hat = classifier.predict_proba(train_features)[:, 1]\n",
    "    fpr, tpr, thresholds = roc_curve(train_y[:, i], train_y_hat)\n",
    "    train_aucs.append(auc(fpr, tpr))\n",
    "    \n",
    "    best_params.append(classifier.best_params_)"
   ]
  },
  {
   "cell_type": "code",
   "execution_count": null,
   "metadata": {},
   "outputs": [],
   "source": []
  }
 ],
 "metadata": {
  "kernelspec": {
   "display_name": "Python 3",
   "language": "python",
   "name": "python3"
  },
  "language_info": {
   "codemirror_mode": {
    "name": "ipython",
    "version": 3
   },
   "file_extension": ".py",
   "mimetype": "text/x-python",
   "name": "python",
   "nbconvert_exporter": "python",
   "pygments_lexer": "ipython3",
   "version": "3.7.0"
  }
 },
 "nbformat": 4,
 "nbformat_minor": 2
}
