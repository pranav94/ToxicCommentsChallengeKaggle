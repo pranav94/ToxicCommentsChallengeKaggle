{
 "cells": [
  {
   "cell_type": "code",
   "execution_count": 130,
   "metadata": {},
   "outputs": [],
   "source": [
    "import numpy as np\n",
    "import tensorflow as tf\n",
    "from keras.preprocessing.text import Tokenizer\n",
    "from keras.preprocessing.sequence import pad_sequences\n",
    "from keras.layers import Dense, LSTM, Input, Embedding, Dropout, Activation\n",
    "from keras.layers import Bidirectional, GlobalMaxPool1D\n",
    "from keras.models import Model\n",
    "from keras import initializers, regularizers, constraints, optimizers, layers\n",
    "import pandas as pd\n",
    "import nltk\n",
    "from matplotlib import pyplot as plt\n",
    "get_ipython().run_line_magic('matplotlib', 'inline')\n",
    "\n",
    "from utils.data_loader import load_train_data, load_test_data\n"
   ]
  },
  {
   "cell_type": "markdown",
   "metadata": {},
   "source": [
    " ## Data Exploration"
   ]
  },
  {
   "cell_type": "code",
   "execution_count": 131,
   "metadata": {},
   "outputs": [],
   "source": [
    "train_data, valid_data = load_train_data(\"data/train.csv\")\n",
    "loaded_test_data = load_test_data(\"data/test.csv\", \"data/test_labels.csv\")\n",
    "test_data = loaded_test_data[[\"id\", \"comment_text\"]]\n",
    "test_labels = loaded_test_data[\n",
    "    [\n",
    "        \"toxic\", \"severe_toxic\", \"obscene\",\n",
    "        \"threat\", \"insult\", \"identity_hate\"\n",
    "    ]\n",
    "]\n"
   ]
  },
  {
   "cell_type": "code",
   "execution_count": null,
   "metadata": {},
   "outputs": [],
   "source": []
  },
  {
   "cell_type": "raw",
   "metadata": {},
   "source": []
  },
  {
   "cell_type": "code",
   "execution_count": 132,
   "metadata": {},
   "outputs": [
    {
     "data": {
      "text/plain": [
       "(143645, 15926, 63978)"
      ]
     },
     "execution_count": 132,
     "metadata": {},
     "output_type": "execute_result"
    }
   ],
   "source": [
    "len(train_data), len(valid_data), len(test_data)\n",
    "\n"
   ]
  },
  {
   "cell_type": "code",
   "execution_count": 133,
   "metadata": {},
   "outputs": [
    {
     "data": {
      "text/html": [
       "<div>\n",
       "<style scoped>\n",
       "    .dataframe tbody tr th:only-of-type {\n",
       "        vertical-align: middle;\n",
       "    }\n",
       "\n",
       "    .dataframe tbody tr th {\n",
       "        vertical-align: top;\n",
       "    }\n",
       "\n",
       "    .dataframe thead th {\n",
       "        text-align: right;\n",
       "    }\n",
       "</style>\n",
       "<table border=\"1\" class=\"dataframe\">\n",
       "  <thead>\n",
       "    <tr style=\"text-align: right;\">\n",
       "      <th></th>\n",
       "      <th>id</th>\n",
       "      <th>comment_text</th>\n",
       "      <th>toxic</th>\n",
       "      <th>severe_toxic</th>\n",
       "      <th>obscene</th>\n",
       "      <th>threat</th>\n",
       "      <th>insult</th>\n",
       "      <th>identity_hate</th>\n",
       "    </tr>\n",
       "  </thead>\n",
       "  <tbody>\n",
       "    <tr>\n",
       "      <th>130060</th>\n",
       "      <td>b7bf5a6846bd456a</td>\n",
       "      <td>\"\\n Oppose. WP:MOSTM, the guideline covering t...</td>\n",
       "      <td>0</td>\n",
       "      <td>0</td>\n",
       "      <td>0</td>\n",
       "      <td>0</td>\n",
       "      <td>0</td>\n",
       "      <td>0</td>\n",
       "    </tr>\n",
       "    <tr>\n",
       "      <th>132921</th>\n",
       "      <td>c70efd55724be549</td>\n",
       "      <td>=== I AM GLEN AND I LOVE BEING A FAG===</td>\n",
       "      <td>1</td>\n",
       "      <td>0</td>\n",
       "      <td>0</td>\n",
       "      <td>0</td>\n",
       "      <td>0</td>\n",
       "      <td>0</td>\n",
       "    </tr>\n",
       "    <tr>\n",
       "      <th>46589</th>\n",
       "      <td>7c7f688f129e511e</td>\n",
       "      <td>\"\\n\\nIf it happens it may be worth noting but ...</td>\n",
       "      <td>0</td>\n",
       "      <td>0</td>\n",
       "      <td>0</td>\n",
       "      <td>0</td>\n",
       "      <td>0</td>\n",
       "      <td>0</td>\n",
       "    </tr>\n",
       "    <tr>\n",
       "      <th>129843</th>\n",
       "      <td>b68d08319e5fcb14</td>\n",
       "      <td>}}\\n{{WikiProject Elections and Referendums</td>\n",
       "      <td>0</td>\n",
       "      <td>0</td>\n",
       "      <td>0</td>\n",
       "      <td>0</td>\n",
       "      <td>0</td>\n",
       "      <td>0</td>\n",
       "    </tr>\n",
       "    <tr>\n",
       "      <th>2528</th>\n",
       "      <td>06bf9f58011ca46a</td>\n",
       "      <td>\"\\n\\nI posted a thread about Donny on WP:ANI  ...</td>\n",
       "      <td>0</td>\n",
       "      <td>0</td>\n",
       "      <td>0</td>\n",
       "      <td>0</td>\n",
       "      <td>0</td>\n",
       "      <td>0</td>\n",
       "    </tr>\n",
       "  </tbody>\n",
       "</table>\n",
       "</div>"
      ],
      "text/plain": [
       "                      id                                       comment_text  \\\n",
       "130060  b7bf5a6846bd456a  \"\\n Oppose. WP:MOSTM, the guideline covering t...   \n",
       "132921  c70efd55724be549            === I AM GLEN AND I LOVE BEING A FAG===   \n",
       "46589   7c7f688f129e511e  \"\\n\\nIf it happens it may be worth noting but ...   \n",
       "129843  b68d08319e5fcb14        }}\\n{{WikiProject Elections and Referendums   \n",
       "2528    06bf9f58011ca46a  \"\\n\\nI posted a thread about Donny on WP:ANI  ...   \n",
       "\n",
       "        toxic  severe_toxic  obscene  threat  insult  identity_hate  \n",
       "130060      0             0        0       0       0              0  \n",
       "132921      1             0        0       0       0              0  \n",
       "46589       0             0        0       0       0              0  \n",
       "129843      0             0        0       0       0              0  \n",
       "2528        0             0        0       0       0              0  "
      ]
     },
     "execution_count": 133,
     "metadata": {},
     "output_type": "execute_result"
    }
   ],
   "source": [
    "train_data.head()\n",
    "\n"
   ]
  },
  {
   "cell_type": "code",
   "execution_count": 134,
   "metadata": {},
   "outputs": [
    {
     "data": {
      "text/plain": [
       "130060    b7bf5a6846bd456a\n",
       "132921    c70efd55724be549\n",
       "46589     7c7f688f129e511e\n",
       "129843    b68d08319e5fcb14\n",
       "2528      06bf9f58011ca46a\n",
       "Name: id, dtype: object"
      ]
     },
     "execution_count": 134,
     "metadata": {},
     "output_type": "execute_result"
    }
   ],
   "source": [
    "train_data[\"id\"].head()\n",
    "\n"
   ]
  },
  {
   "cell_type": "code",
   "execution_count": 135,
   "metadata": {},
   "outputs": [
    {
     "data": {
      "text/plain": [
       "False"
      ]
     },
     "execution_count": 135,
     "metadata": {},
     "output_type": "execute_result"
    }
   ],
   "source": [
    "train_data.isnull().values.any()\n",
    "\n"
   ]
  },
  {
   "cell_type": "code",
   "execution_count": 136,
   "metadata": {},
   "outputs": [
    {
     "data": {
      "text/plain": [
       "False"
      ]
     },
     "execution_count": 136,
     "metadata": {},
     "output_type": "execute_result"
    }
   ],
   "source": [
    "test_data.isnull().values.any()\n",
    "\n"
   ]
  },
  {
   "cell_type": "code",
   "execution_count": 137,
   "metadata": {},
   "outputs": [
    {
     "data": {
      "text/plain": [
       "id               False\n",
       "comment_text     False\n",
       "toxic            False\n",
       "severe_toxic     False\n",
       "obscene          False\n",
       "threat           False\n",
       "insult           False\n",
       "identity_hate    False\n",
       "dtype: bool"
      ]
     },
     "execution_count": 137,
     "metadata": {},
     "output_type": "execute_result"
    }
   ],
   "source": [
    "train_data.isnull().any()\n",
    "\n"
   ]
  },
  {
   "cell_type": "code",
   "execution_count": 138,
   "metadata": {},
   "outputs": [
    {
     "data": {
      "text/plain": [
       "id              False\n",
       "comment_text    False\n",
       "dtype: bool"
      ]
     },
     "execution_count": 138,
     "metadata": {},
     "output_type": "execute_result"
    }
   ],
   "source": [
    "test_data.isnull().any()\n",
    "\n"
   ]
  },
  {
   "cell_type": "code",
   "execution_count": 139,
   "metadata": {},
   "outputs": [],
   "source": [
    "classes = [\"toxic\", \"severe_toxic\", \"obscene\",\n",
    "           \"threat\", \"insult\", \"identity_hate\"]\n",
    "train_y = train_data[classes].values\n",
    "train_x = train_data[\"comment_text\"]\n",
    "valid_y = valid_data[classes].values\n",
    "valid_x = valid_data[\"comment_text\"]\n",
    "test_x = test_data[\"comment_text\"]\n",
    "\n"
   ]
  },
  {
   "cell_type": "code",
   "execution_count": 140,
   "metadata": {},
   "outputs": [
    {
     "data": {
      "text/plain": [
       "130060    \"\\n Oppose. WP:MOSTM, the guideline covering t...\n",
       "132921              === I AM GLEN AND I LOVE BEING A FAG===\n",
       "46589     \"\\n\\nIf it happens it may be worth noting but ...\n",
       "129843          }}\\n{{WikiProject Elections and Referendums\n",
       "2528      \"\\n\\nI posted a thread about Donny on WP:ANI  ...\n",
       "Name: comment_text, dtype: object"
      ]
     },
     "execution_count": 140,
     "metadata": {},
     "output_type": "execute_result"
    }
   ],
   "source": [
    "train_x.head()\n",
    "\n"
   ]
  },
  {
   "cell_type": "code",
   "execution_count": 141,
   "metadata": {},
   "outputs": [
    {
     "data": {
      "text/plain": [
       "5     Thank you for understanding. I think very high...\n",
       "7                      :Dear god this site is horrible.\n",
       "11    \"::: Somebody will invariably try to add Relig...\n",
       "13    \" \\n\\n It says it right there that it IS a typ...\n",
       "14    \" \\n\\n == Before adding a new product to the l...\n",
       "Name: comment_text, dtype: object"
      ]
     },
     "execution_count": 141,
     "metadata": {},
     "output_type": "execute_result"
    }
   ],
   "source": [
    "test_x.head()\n"
   ]
  },
  {
   "cell_type": "markdown",
   "metadata": {},
   "source": [
    " ## Data Preprocessing"
   ]
  },
  {
   "cell_type": "code",
   "execution_count": 142,
   "metadata": {},
   "outputs": [],
   "source": [
    "max_words = 20000\n",
    "tokenizer = Tokenizer(num_words=max_words)\n",
    "tokenizer.fit_on_texts(list(train_x))\n",
    "\n"
   ]
  },
  {
   "cell_type": "code",
   "execution_count": 143,
   "metadata": {},
   "outputs": [],
   "source": [
    "tokenized_train_x = tokenizer.texts_to_sequences(train_x)\n",
    "tokenized_valid_x = tokenizer.texts_to_sequences(valid_x)\n",
    "tokenized_test_x = tokenizer.texts_to_sequences(test_x)\n",
    "\n"
   ]
  },
  {
   "cell_type": "code",
   "execution_count": 144,
   "metadata": {},
   "outputs": [
    {
     "data": {
      "text/plain": [
       "(143645, 15926, 63978)"
      ]
     },
     "execution_count": 144,
     "metadata": {},
     "output_type": "execute_result"
    }
   ],
   "source": [
    "len(tokenized_train_x), len(tokenized_valid_x), len(tokenized_test_x)\n",
    "\n"
   ]
  },
  {
   "cell_type": "code",
   "execution_count": 145,
   "metadata": {},
   "outputs": [],
   "source": [
    "maxlen = 200\n",
    "X_train = pad_sequences(tokenized_train_x, maxlen=maxlen)\n",
    "X_valid = pad_sequences(tokenized_valid_x, maxlen=maxlen)\n",
    "X_test = pad_sequences(tokenized_test_x, maxlen=maxlen)\n",
    "\n"
   ]
  },
  {
   "cell_type": "code",
   "execution_count": 146,
   "metadata": {},
   "outputs": [
    {
     "data": {
      "text/plain": [
       "(143645, 15926, 63978)"
      ]
     },
     "execution_count": 146,
     "metadata": {},
     "output_type": "execute_result"
    }
   ],
   "source": [
    "len(X_train), len(X_valid), len(X_test)\n",
    "\n"
   ]
  },
  {
   "cell_type": "code",
   "execution_count": 147,
   "metadata": {},
   "outputs": [
    {
     "data": {
      "text/plain": [
       "array([   0,    0,    0,    0,    0,    0,    0,    0,    0,    0,    0,\n",
       "          0,    0,    0,    0,    0,    0,    0,    0,    0,    0,    0,\n",
       "          0,    0,    0,    0,    0,    0,    0,    0,    0,    0,    0,\n",
       "          0,    0,    0,    0,    0,    0,    0,    0,    0,    0,    0,\n",
       "          0,    0,    0,    0,    0,    0,    0,    0,    0,    0,    0,\n",
       "          0,    0,    0,    0,    0,    0,    0,    0,    0,    0,    0,\n",
       "          0,    0,    0,    0,    0,    0,    0,    0,    0,    0,    0,\n",
       "          0,    0,    0,    0,    0,    0,    0,    0,    0,    0,    0,\n",
       "          0,    0,    0,    0,    0,    0,    0,    0,    0,    0,    0,\n",
       "          0,    0,    0,    0,    0,    0,    0,    0,    0,    0,    0,\n",
       "          0,    0,    0,    0,    0,    0,    0,    0,    0,    0,    0,\n",
       "          0,    0,    0,    0,    0,    0,    0,    0,    0,    0,    0,\n",
       "          0,    0,    0,    0,    0,    0,    0,    0,    0,    0,    0,\n",
       "          0,    0,    0,    0,    0,    0,    0,    0,    0,    0,    0,\n",
       "          0,    0,    0,    0,    0,    0,    0,    0,    0,    0,    0,\n",
       "          0,    0,    0,    0,    0,    0,    0,    0,  572,   11,  628,\n",
       "          1, 9384,    2, 2502,   35, 2306,   20,   38,   27,    4,   66,\n",
       "        163,  114, 7048,  912,    7,  478, 1549, 2274, 2862, 1913, 5444,\n",
       "        951, 2168], dtype=int32)"
      ]
     },
     "execution_count": 147,
     "metadata": {},
     "output_type": "execute_result"
    }
   ],
   "source": [
    "X_train[23]\n",
    "\n"
   ]
  },
  {
   "cell_type": "code",
   "execution_count": 148,
   "metadata": {},
   "outputs": [],
   "source": [
    "total_num_words = [len(one_comment) for one_comment in tokenized_train_x]\n",
    "# total_num_words\n",
    "\n"
   ]
  },
  {
   "cell_type": "code",
   "execution_count": 149,
   "metadata": {},
   "outputs": [
    {
     "data": {
      "image/png": "[encoded data removed]",
      "text/plain": [
       "<Figure size 432x288 with 1 Axes>"
      ]
     },
     "metadata": {
      "needs_background": "light"
     },
     "output_type": "display_data"
    }
   ],
   "source": [
    "plt.hist(total_num_words, bins=np.arange(0, 410, 10))\n",
    "plt.show()\n"
   ]
  },
  {
   "cell_type": "markdown",
   "metadata": {},
   "source": [
    " ## Final Preprocessed Data"
   ]
  },
  {
   "cell_type": "code",
   "execution_count": 150,
   "metadata": {},
   "outputs": [
    {
     "data": {
      "text/plain": [
       "'\"\\n Oppose. WP:MOSTM, the guideline covering trademarks and brands, explicitly states not to do this. We don\\'t need articles with titles like REALTOR, TIME, Se7en, Alien³, etc., despite those being their \"\"official\"\" names: these are brandings, and are designed to promote their products. But Wikipedia is not supposed to be promotional. NBC, CBS, and ABC are actual abbreviations, and are pronounced en-bee-cee, cee-bee-ess, ay-bee-cee. A reader who is truly unfamiliar with Fox in this context will end up pronouncing it \"\"eff-oh-ecks\"\".  \"'"
      ]
     },
     "execution_count": 150,
     "metadata": {},
     "output_type": "execute_result"
    }
   ],
   "source": [
    "train_x.iloc[0]\n",
    "\n"
   ]
  },
  {
   "cell_type": "code",
   "execution_count": 151,
   "metadata": {},
   "outputs": [
    {
     "data": {
      "text/plain": [
       "array([    0,     0,     0,     0,     0,     0,     0,     0,     0,\n",
       "           0,     0,     0,     0,     0,     0,     0,     0,     0,\n",
       "           0,     0,     0,     0,     0,     0,     0,     0,     0,\n",
       "           0,     0,     0,     0,     0,     0,     0,     0,     0,\n",
       "           0,     0,     0,     0,     0,     0,     0,     0,     0,\n",
       "           0,     0,     0,     0,     0,     0,     0,     0,     0,\n",
       "           0,     0,     0,     0,     0,     0,     0,     0,     0,\n",
       "           0,     0,     0,     0,     0,     0,     0,     0,     0,\n",
       "           0,     0,     0,     0,     0,     0,     0,     0,     0,\n",
       "           0,     0,     0,     0,     0,     0,     0,     0,     0,\n",
       "           0,     0,     0,     0,     0,     0,     0,     0,     0,\n",
       "           0,     0,     0,     0,     0,     0,     0,     0,     0,\n",
       "           0,     0,     0,     0,     0,     0,     0,     0,     0,\n",
       "           0,     0,     0,     0,     0,     0,  1597,   114,     1,\n",
       "        1210,  4308,     4, 12717,  2199,   381,    14,     2,    33,\n",
       "          13,    58,    59,   122,    80,    21,  1511,    49,    84,\n",
       "         316,  1099,   142,    90,    91,   544,   529,   112,    19,\n",
       "           4,    19,  2433,     2,  1667,    91,  2483,    26,    29,\n",
       "           8,    14,   925,     2,    16,  2285,  8610,  5869,     4,\n",
       "        4433,    19,   727,  9994,     4,    19,  4468,   454,  7103,\n",
       "        7103, 19813,  7103,     5,  1115,    62,     8,  1545,  5829,\n",
       "          21,  2662,    10,    13,   753,    44,   451,    76,    11,\n",
       "       17620,   399], dtype=int32)"
      ]
     },
     "execution_count": 151,
     "metadata": {},
     "output_type": "execute_result"
    }
   ],
   "source": [
    "X_train[0]\n"
   ]
  },
  {
   "cell_type": "markdown",
   "metadata": {},
   "source": [
    " ### Clean the data"
   ]
  },
  {
   "cell_type": "code",
   "execution_count": 152,
   "metadata": {},
   "outputs": [
    {
     "name": "stdout",
     "output_type": "stream",
     "text": [
      "The autoreload extension is already loaded. To reload it, use:\n",
      "  %reload_ext autoreload\n",
      "Time: 127.67050290107727\n",
      "Time: 13.983494758605957\n",
      "Time: 54.924248695373535\n"
     ]
    }
   ],
   "source": [
    "%load_ext autoreload\n",
    "%autoreload 2\n",
    "from utils.preprocessing import clean\n",
    "\n",
    "clean_train_x = clean(train_x)\n",
    "clean_valid_x = clean(valid_x)\n",
    "clean_test_x = clean(test_x)\n"
   ]
  },
  {
   "cell_type": "markdown",
   "metadata": {},
   "source": [
    " ### Stopwords"
   ]
  },
  {
   "cell_type": "code",
   "execution_count": 153,
   "metadata": {},
   "outputs": [
    {
     "name": "stdout",
     "output_type": "stream",
     "text": [
      "The autoreload extension is already loaded. To reload it, use:\n",
      "  %reload_ext autoreload\n"
     ]
    }
   ],
   "source": [
    "%load_ext autoreload\n",
    "%autoreload 2\n",
    "from utils.preprocessing import filter_stop_words\n",
    "filtered_train_x = filter_stop_words(clean_train_x)\n",
    "filtered_valid_x = filter_stop_words(clean_valid_x)\n",
    "filtered_test_x = filter_stop_words(clean_test_x)\n",
    "\n",
    "tokenizer = Tokenizer(num_words=max_words)\n",
    "tokenizer.fit_on_texts(list(filtered_train_x))\n"
   ]
  },
  {
   "cell_type": "code",
   "execution_count": 154,
   "metadata": {},
   "outputs": [],
   "source": [
    "tokenized_train_x = tokenizer.texts_to_sequences(filtered_train_x)\n",
    "tokenized_valid_x = tokenizer.texts_to_sequences(filtered_valid_x)\n",
    "tokenized_test_x = tokenizer.texts_to_sequences(filtered_test_x)\n"
   ]
  },
  {
   "cell_type": "code",
   "execution_count": 155,
   "metadata": {},
   "outputs": [],
   "source": [
    "total_num_words = [len(one_comment) for one_comment in tokenized_train_x]\n",
    "\n"
   ]
  },
  {
   "cell_type": "markdown",
   "metadata": {},
   "source": [
    " Total number of words after removing stopwords."
   ]
  },
  {
   "cell_type": "code",
   "execution_count": 156,
   "metadata": {},
   "outputs": [
    {
     "data": {
      "image/png": "[encoded data removed]",
      "text/plain": [
       "<Figure size 432x288 with 1 Axes>"
      ]
     },
     "metadata": {
      "needs_background": "light"
     },
     "output_type": "display_data"
    }
   ],
   "source": [
    "plt.hist(total_num_words, bins=np.arange(0, 410, 10))\n",
    "plt.show()\n"
   ]
  },
  {
   "cell_type": "markdown",
   "metadata": {},
   "source": [
    " ### Lemmatization"
   ]
  },
  {
   "cell_type": "code",
   "execution_count": 157,
   "metadata": {},
   "outputs": [],
   "source": [
    "%autoreload 2\n",
    "from utils.preprocessing import lemmatize\n",
    "\n",
    "lemmatized_train_x = lemmatize(filtered_train_x)\n",
    "lemmatized_valid_x = lemmatize(filtered_valid_x)\n",
    "lemmatized_test_x = lemmatize(filtered_test_x)\n",
    "\n",
    "tokenizer.fit_on_texts(list(lemmatized_train_x))\n"
   ]
  },
  {
   "cell_type": "code",
   "execution_count": 158,
   "metadata": {},
   "outputs": [],
   "source": [
    "tokenized_train_x = tokenizer.texts_to_sequences(lemmatized_train_x)\n",
    "tokenized_valid_x = tokenizer.texts_to_sequences(lemmatized_valid_x)\n",
    "tokenized_test_x = tokenizer.texts_to_sequences(lemmatized_test_x)"
   ]
  },
  {
   "cell_type": "code",
   "execution_count": 159,
   "metadata": {},
   "outputs": [],
   "source": [
    "total_num_words = [len(one_comment) for one_comment in tokenized_train_x]\n"
   ]
  },
  {
   "cell_type": "markdown",
   "metadata": {},
   "source": [
    " Total number of words after Lemmatization + Stop words correction."
   ]
  },
  {
   "cell_type": "code",
   "execution_count": 160,
   "metadata": {},
   "outputs": [
    {
     "data": {
      "image/png": "[encoded data removed]",
      "text/plain": [
       "<Figure size 432x288 with 1 Axes>"
      ]
     },
     "metadata": {
      "needs_background": "light"
     },
     "output_type": "display_data"
    }
   ],
   "source": [
    "plt.hist(total_num_words, bins=np.arange(0, 410, 10))\n",
    "plt.show()\n"
   ]
  },
  {
   "cell_type": "markdown",
   "metadata": {},
   "source": [
    " ### Stemming"
   ]
  },
  {
   "cell_type": "code",
   "execution_count": 161,
   "metadata": {},
   "outputs": [],
   "source": [
    "%autoreload 2\n",
    "from utils.preprocessing import stem\n",
    "\n",
    "stemmed_train_x = stem(filtered_train_x)\n",
    "stemmed_valid_x = stem(filtered_valid_x)\n",
    "stemmed_test_x = stem(filtered_test_x)\n",
    "\n",
    "tokenizer.fit_on_texts(list(stemmed_train_x))\n"
   ]
  },
  {
   "cell_type": "code",
   "execution_count": 162,
   "metadata": {},
   "outputs": [],
   "source": [
    "tokenized_train_x = tokenizer.texts_to_sequences(stemmed_train_x)\n",
    "tokenized_valid_x = tokenizer.texts_to_sequences(stemmed_valid_x)\n",
    "tokenized_test_x = tokenizer.texts_to_sequences(stemmed_test_x)"
   ]
  },
  {
   "cell_type": "code",
   "execution_count": 163,
   "metadata": {},
   "outputs": [],
   "source": [
    "total_num_words = [len(one_comment) for one_comment in tokenized_train_x]\n"
   ]
  },
  {
   "cell_type": "markdown",
   "metadata": {},
   "source": [
    " Total number of words after Stemming + Stop words correction."
   ]
  },
  {
   "cell_type": "code",
   "execution_count": 164,
   "metadata": {},
   "outputs": [
    {
     "data": {
      "image/png": "[encoded data removed]",
      "text/plain": [
       "<Figure size 432x288 with 1 Axes>"
      ]
     },
     "metadata": {
      "needs_background": "light"
     },
     "output_type": "display_data"
    }
   ],
   "source": [
    "plt.hist(total_num_words, bins=np.arange(0, 410, 10))\n",
    "plt.show()\n"
   ]
  },
  {
   "cell_type": "code",
   "execution_count": 165,
   "metadata": {},
   "outputs": [
    {
     "name": "stdout",
     "output_type": "stream",
     "text": [
      "\"\n",
      "\n",
      "If it happens it may be worth noting but at present in my view it is more like an advert than an encyclopedic entry.  MacDui \" \n",
      "\n",
      " if it happens it may be worth noting but at present in my view it is more like an advert than an encyclopedic entry  macdui  \n",
      "\n",
      "happens may worth noting present view like advert encyclopedic entry macdui \n",
      "\n",
      "happen may worth note present view like advert encyclopedic entry macdui \n",
      "\n",
      "happen may worth note present view like advert encycloped entri macdui \n",
      "\n"
     ]
    }
   ],
   "source": [
    "print(train_x.iloc[2], \"\\n\")\n",
    "print(clean_train_x[2], \"\\n\")\n",
    "print(filtered_train_x[2], \"\\n\")\n",
    "print(lemmatized_train_x[2], \"\\n\")\n",
    "print(stemmed_train_x[2], \"\\n\")\n"
   ]
  },
  {
   "cell_type": "code",
   "execution_count": 166,
   "metadata": {},
   "outputs": [
    {
     "name": "stdout",
     "output_type": "stream",
     "text": [
      "Risk factors\n",
      "\n",
      "The role of chlamydia should be discussed, as with the increasing ectopic pregnancy rate with the increasing chlamydia incidence.   IUDs have also been linked to increased ectopic pregnancy. \n",
      "\n",
      "risk factors role chlamydia discussed increasing ectopic pregnancy rate increasing chlamydia incidence iuds also linked increased ectopic pregnancy \n",
      "\n",
      "risk factor role chlamydia discuss increase ectopic pregnancy rate increase chlamydia incidence iuds also link increase ectopic pregnancy \n",
      "\n",
      "risk factor role chlamydia discuss increas ectop pregnanc rate increas chlamydia incid iud also link increas ectop pregnanc \n",
      "\n"
     ]
    }
   ],
   "source": [
    "print(valid_x.iloc[0], \"\\n\")\n",
    "print(filtered_valid_x[0], \"\\n\")\n",
    "print(lemmatized_valid_x[0], \"\\n\")\n",
    "print(stemmed_valid_x[0], \"\\n\")\n"
   ]
  },
  {
   "cell_type": "code",
   "execution_count": 167,
   "metadata": {},
   "outputs": [
    {
     "name": "stdout",
     "output_type": "stream",
     "text": [
      "143645\n"
     ]
    }
   ],
   "source": [
    "print(len(train_x))"
   ]
  },
  {
   "cell_type": "code",
   "execution_count": 169,
   "metadata": {},
   "outputs": [
    {
     "name": "stdout",
     "output_type": "stream",
     "text": [
      "143645\n"
     ]
    }
   ],
   "source": [
    "print(len(stemmed_train_x))\n"
   ]
  },
  {
   "cell_type": "code",
   "execution_count": 170,
   "metadata": {},
   "outputs": [],
   "source": [
    "import pickle"
   ]
  },
  {
   "cell_type": "code",
   "execution_count": 175,
   "metadata": {},
   "outputs": [],
   "source": [
    "PATH = \"./pickle\"\n",
    "clean_file = \"cleaned_data.pickle\"\n",
    "lem_file = \"lemmatized_data.pickle\"\n",
    "stem_file = \"stemmed_data.pickle\"\n",
    "\n",
    "file_train = {\n",
    "    \"train_x\": train_x,\n",
    "    \"clean_train_x\": clean_train_x,\n",
    "    \"filtered_train_x\": filtered_train_x, \n",
    "    \"lemmatized_train_x\": lemmatized_train_x, \n",
    "    \"stemmed_train_x\": stemmed_train_x,\n",
    "    \"train_y\": train_y,\n",
    "}\n",
    "\n",
    "file_valid = {\n",
    "    \"valid_x\": valid_x,\n",
    "    \"clean_valid_x\": clean_valid_x,\n",
    "    \"filtered_valid_x\": filtered_valid_x, \n",
    "    \"lemmatized_valid_x\": lemmatized_valid_x, \n",
    "    \"stemmed_valid_x\": stemmed_valid_x,\n",
    "    \"valid_y\": valid_y,\n",
    "}\n",
    "\n",
    "file_test = {\n",
    "    \"test_x\": test_x,\n",
    "    \"clean_test_x\": clean_test_x,\n",
    "    \"filtered_test_x\": filtered_test_x, \n",
    "    \"lemmatized_test_x\": lemmatized_test_x, \n",
    "    \"stemmed_test_x\": stemmed_test_x,\n",
    "    \"test_y\": test_labels,\n",
    "}\n",
    "\n",
    "\n",
    "for file_name in file_train:\n",
    "    with open(\"{}/{}.pickle\".format(PATH, file_name), 'wb') as f:\n",
    "        pickle.dump(file_train[file_name], f)\n",
    "\n",
    "for file_name in file_valid:\n",
    "    with open(\"{}/{}.pickle\".format(PATH, file_name), 'wb') as f:\n",
    "        pickle.dump(file_valid[file_name], f)\n",
    "        \n",
    "for file_name in file_test:\n",
    "    with open(\"{}/{}.pickle\".format(PATH, file_name), 'wb') as f:\n",
    "        pickle.dump(file_test[file_name], f)"
   ]
  },
  {
   "cell_type": "code",
   "execution_count": 173,
   "metadata": {},
   "outputs": [
    {
     "data": {
      "text/plain": [
       "['oppos wp mostm guidelin cover trademark brand explicitli state nt need articl titl like realtor time seen alien3 etc despit offici name brand design promot product wikipedia suppos promot nbc cb abc actual abbrevi pronounc enbeece ceebeeess aybeece reader truli unfamiliar fox context end pronounc effoheck',\n",
       " 'glen love fag',\n",
       " 'happen may worth note present view like advert encycloped entri macdui',\n",
       " 'wikiproject elect referendum',\n",
       " 'post thread donni wp ani saturday accus wp bite demand checkus clear name thought took nerv sinc nt run across newbi convers checkus checkus nt employ establish innoc case pass checkus confirm donni evad rr use ip whether ip rais iberianarabian issu donni probabl besid point possibl agf donni anymor seen fisherqueen warn agre strategi comment nt quit worthi block ignor warn talk way away vacat wyomingmontana fact later month ten day intent anywher near comput folk includ admin watch usertalk page case troubl suggest keep eye horserel articl well talk',\n",
       " 'sorri came across harsh usual like get right ot point mani peopl come abras pleas feel free submit bug report futur',\n",
       " 'faeri air death waltz hi thought let know declin g nomin faeri air death waltz g criterion narrow gener appli page consist incomprehens gibberish meaning content thank fool',\n",
       " 'wrestlemania test view tba look better tbd',\n",
       " 'revers remov websit link commerci websit copiou amount busi advertis per one enter holmfirth articl permit wikipedia consid spam link remov sight editor persist place spamlink result link websit enter wikipedia blacklist thereaft link instantli delet spambot within minut enter articl plu admin block ip access stop edit articl indefinit think wikipedia way electron encyclopedia howev place link websit',\n",
       " 'hey andrew forgot mention anoth thing main imag point sail would imag point sail singl sail doubl mast sailboat recent went sail dummi book mast sail shown schemat accur common sailboat mast sail work like mast sailboat sail per mast schemat best simpli draw mast sail reason done besid accur also make notic differ wind run sail place goosewing effici method similar squar rig ship coars imag sail mast nt possibl imag faulti way btw also reason got littl confus first mention could make squar rig sailboat point sail suggest would requir instead could best make imag first bother imag time soon',\n",
       " 'cu scibabi wast time cu scibabi account wp duck indef block sight cu request make refer polit nt know talk',\n",
       " 'hate the_pop think pompou bastard interrupt back forth',\n",
       " 'interest good articl review misrepres wp gar mean good articl reasses revert fail clarifi point repeatedli discuss long histori initi sever lose disput notic never initi disput notic said sentenc signific neither said signific go strictli mo lead specif claus edit servant find substitut bring replac shall evalu choic see stand editor unequ senior editor wikipedia quit year',\n",
       " 'hmm mayb make page mayb ask sourc huggl make haiv huggl admin simpli click updat wiki bit long yesterday rest talkcont',\n",
       " 'attack user deb sure appar show chang give stisfact page back thank',\n",
       " 'sadli true talkstalk mailcsb dec utc',\n",
       " 'nm hey everi bitch hater mainli kid bitchass rock instead make better dont u take bitch offlin itd make alot fuckin happier',\n",
       " 'delet band tri make big peopl see get look weve done mayb respect pleas nt delet pleas',\n",
       " 'let know keep tri vandalis wiki send viru',\n",
       " 'hi ad imag appropri copyright tag wikimedia common pull imag wikipedia page find info download new imag directli wikipedia',\n",
       " 'think get away find quit curiou sinc renam made edit hardli articl space someth go head even nt understand hand book sunbeam tiger arriv today hope soon busi usual corbett',\n",
       " 'eh worri almost human mistak happen block',\n",
       " 'know japanes would appreci translat news articl inform think might import kumi koda articl sunris',\n",
       " 'look took bait complain stalk talk page wp battleground behavior love watch ssri candid jump',\n",
       " 'sorri new guess content block consensu talk page regard issu hand extern link question deserv preserv npov overturn accept punish continu edit war talk page',\n",
       " 'green tea cigaretteswhi worthless sack eleph manate s__ continu read hey jermey thought mention pursu get real job piec dog shit furthermor fuck addit think may homosexu citat need grapevin shed light impot issu around women need stop date fat women also fuck cunt kike ass nigger pussi fuck deadbeat loser eat shit rot need understand wikipedia mean noth noth mean rather penetr razor sharp dildo sphincter ever give shit suck cock white pow wow nigger knife kike eat shit serious mean real eat mean stick lump excet escap rectum consum let shit slide throat may disgrac give shitti head realli unqualifi give dog fucker',\n",
       " 'octob',\n",
       " 'way exchang rjensen jpgordon sock puppet convers pathet realli',\n",
       " 'much better made chang elimin similar word remov passiv voic thank hard work',\n",
       " 'support person nt like zune note notabl enough receiv fair amount media attentioncomm',\n",
       " 'could fuck leav alon bitch',\n",
       " 'two time world guin record holder intern fame cirqu du soleil aerial entertain igor zaripov michael jackson immort world tour prepar break world guin record recent set new extrem strength guin world record longest suspens teeth live abc news good morn america time squar new york citi may th offici video http wwwyoutubecomwatch vtaaokoug featur plcp http thetzarcom',\n",
       " 'hello dick head new friend life preced unsign comment ad',\n",
       " 'pleas upload state name imag top neuter one like talk',\n",
       " 'notic indefin block well thought littl hasti rare occasion blatant vandal come around',\n",
       " 'differ trivial',\n",
       " 'collaps close section go peopl point legitim notabl critic knowledg video game anita meet notabl standard credibl sourc noth even close peer review journal prais work bunch long time editor said critic allow awesom go away reason work never find way psycholog journal complet bs huge differ toy made boy toy made girl corpor done extens market research design tast noth conspiraci women success thousand year across everi cultur known histori fact anita want girl play game made boy nt make relev make fighter realiti well hypocrit recent express anger video game maker includ femal charact use bow head distinguish even though old school graphic left option ignor fact modern video game abl make femal distinct mani way ye bow use distinguish femal women accessori could use nt know giant hoop ear anita adam claim need free ear great patriarchi brand shave head littl boy want play doll littl poni get teas much wors girl want play video game made boy guess manli enough still girl oppress idea men women treat equal workplac one thing idea men women nt fundament differ tast victim ancient conspiraci convinc us bunch bs never taken serious profession journal anita irrelev nobodi proven liar love video game fan video game nt deserv page beyond incid play victim given bunch money know go away',\n",
       " 'barnstar origin barnstar recognit edit product construct work revert edit neither good honor present barnstar',\n",
       " 'point back earlier affirm page thank would chang heart ident crisi cynic vacil would normal make opinion unreli worthless note appar hold consist standard imparti observ discov revis andor delet hasti comment section perhap initi comment equival stick tongu observ also notic revers hasti thoughtless pueril purport critiqu justif',\n",
       " 'yup obvious redirect trentino provinc trento trentino bold bodi articl take care unlik confus give credit reader situat done bolzanobozen also english call provinc alto adig south tyrol commonli use regularli bbc interchang term',\n",
       " 'catcher manag lead section articl mention catcher move becom manag play career problem aris new editor come along insert favorit catchermanag point section becom unwieldi read propos limit select peopl conni mack steve oneil al lopez mayb joe torr mike scioscia anoth notabl catchermanag mention paul richard',\n",
       " 'fy punk vidgmr homi due faggot name klptyzm',\n",
       " 'number children info box list articl state adopt first wife kid cindi mccain articl state john total',\n",
       " 'nt know might final decid disengag',\n",
       " 'last comment almost month ago rumor factual encyclopaedia know',\n",
       " 'first point fair enough say true peopl second point correct fallaci argument mean someon made argument report articl inaccur correct accur account someon argu good provid sourc use person realli said mean someon made illog argument polici state illog argument explain illog argument articl view simpli go articl period jan utc',\n",
       " 'first encyclopedia farc perpetr public name free open content encyclopedia free open peopl like play god decid piec content stay nt decis base entir belief prejudic someon goe establish belief state nonobvi thing like truth dont like smote within instant use like wikipedia initi make edit fact thing peopl administr nt like hear taken make edit fun wast time offlin preach use wikipedia manag convinc peopl danger thing taken asap also nt need prove anyth next time decid play vandal use anoth ip ps dont deni genuin vandal done occas attempt make valid contribut revert',\n",
       " 'stakehold delt author leav edit compet contributor',\n",
       " 'templat histori window one question necessari leftalign text tabl cell standard tabl cell td element default left align',\n",
       " 'chang get slower say revert think mean involv use undo button compar latter last seri start could say two edit causteau revert edit mine cours one recent exampl pattern continu month concern approach suggest sure tri month insist say problem must differ opinion specif fact sourc case causteau explan make attitud clear revert anyth find reason revert find peopl make lot edit somehow wikipedia polici necessari keep look new reason experi other knock will revert argument togeth well basi peopl edit satisfact',\n",
       " 'grevil well done revert fulk grevil disambigu seem nn descend determin put himslef wp remov month ago remov list name fulk grevil thought would get edit war remov dabpag includ',\n",
       " 'problem regard talk',\n",
       " 'masato nicknam research masato nicknam rebelli charisma fight charisma makun charisma max max first one name televis staff accord interview hate actual saw name whenev appear televis narrat call second one anoth nicknam name televis director one use much first nicknam third one use wife friend fourth one found offici websit k written japanes page addit silver wolf name masato team kickbox gym manag serious never ever call opinion peopl wrote k fight clubcom k sportd misunderstood siver wolf nicknam saw masato profil page offici websit',\n",
       " 'edit war warn clearli declar thesi talk page receiv respons even direct user revert contrb talk page section edit war tri solv npov issu onlythetruth',\n",
       " 'understand give appear edit war page advis anywher els round two disagre better discuss talk page revert admin itchi block finger sometim gather particularli advis',\n",
       " 'haunt angel agre leav alon dont ban havent post sinc said leav alon stop bother hope one day see light sinc post',\n",
       " 'spam hunter hi ab thank report work find new spam domain impress last report wt wpspam question suggest though question report could ip spam wikipedia includ rang ip prefer cidr make easier blacklist ip coibot troubl find suggest might interest irc channel link addit enwikipedia edit small wikipedia former run linkwatch shadowbot coibot etc latter normal also linkwatch activ moment watch bot also coibot also nifti tool though one might interest also moment like speak us talk talk channel also command bot hope see case see around happi edit happi hunt c',\n",
       " 'fwiw think refer articl actual refer text orphan move read extern link',\n",
       " 'still block could person insult block check wreck',\n",
       " 'agre microinject thing aborz fallah said ironc etc someth total differ r make english page place use word english peopl use translat persian pronunci',\n",
       " 'nut legitim commerci softwar packag use featur film commerci video game deserv wikipedia entri boothil footapp band nobodi outsid uk ever even heard seriou peopl like author decid get wikipedia unfamiliar someth render irrelev grow',\n",
       " 'replay hi graham ok block month okay apolog mess fac section need say admin guy ian rose ever struck decent fair apolog anyth els cliqu sicken oxfordeduc brit spot slime hypocrisi mile consid action brian boulton cliqu huge kick teeth mani nomin whose articl archiv due lack interest believ boulton cliqu take piss know lack author anyth wrong know got realli good guy wikipedia allow fac process devalu think shame',\n",
       " 'think gon na go ahead remov shown higher extent power lowerend power occas ok talk edit',\n",
       " 'pend chang review hello account grant userright allow review user edit page protect pend chang list articl await review locat special pendingchang list articl pend chang protect turn locat special stablepag grant review right neither grant statu chang edit articl want user right may ask administr remov time see also wikipedia review guidelin review wikipedia pend chang summari use pend chang wikipedia protect polici pend chang protect polici determin page given pend chang protect administr hive',\n",
       " 'least say tri english wiki million articl wors power ballad depress sometim staunch anon almost long wiki interest experi edit still enough interest keep pluggin away use user account dream adminship turn prompt time rememb believ puriti anonym edit wiki built keep hack away power ballad wiki alway work progress',\n",
       " 'case admit remov',\n",
       " 'futur plan news friend enemi leav wikipedia time real end june gotten tire daili grind comb editor use remain time catch project wish complet wikipedia get cri towel',\n",
       " 'agre overal despit fact unix unix unix found public fact remain origin call unix current trademark owner call unix inde',\n",
       " 'toto toto bottom page xd',\n",
       " 'ok direct quot page fuck use dysphemist sexual connot usual connect masturb case go fuck go fuck ass invok incit addit disgust express anger outrag exampl fuck fuck fuck that bit wors say masturb like take good dump mate come put back quit douch',\n",
       " 'sir just want express appreci action unblock talk page could address issu rais also thank thought consider extend fellow admin thank',\n",
       " 'thank wikiproject barnstar gratitud servic coordin militari histori project septemb march herebi award wikiproject barnstar talk',\n",
       " 'dont believ behavior inappropri warrant warn clear harras im get harras nitpicki editor want leav alon',\n",
       " 'hunjan user sikh histori da fcuk u content templat wikipedia hunjan hunjan self ye proud ramgarhia boi u wast man page hunjan wast man plz touch hunjan templat',\n",
       " 'miss point reedit mani agre remov pictur old one think other feel think someon racist bias person moxi request block may right block accus peopl right block other refus pictur reason guarante wo nt one unhappi pic especi asian men wo nt feel happi hell call anatom featur ca nt seen see guy peni ye know asian men know smaller one tini guy malfunct syndrom peni warriorsprid talk talk contrib march utc',\n",
       " 'imag imag delet warn imag metroid prime hunter titl screen top displayjpg list wikipedia imag media delet feel imag delet pleas go voic opinion august utc',\n",
       " 'fair enough snark appropri also edit summari admin focus reliabl sourc snarki edit summari seem impli leav ronan comment ok rs provid admin seem handl obviou notabl ronan comment situat snark need',\n",
       " 'car car kill peopl gun',\n",
       " 'could even tri opera tv documentari nt minut',\n",
       " 'addict choic made user follow start articl make freebas drug even power addict salt equival bear mind addict choic made user addict choic made user rather depend caus alter brain chemistri clearli unorthodox view say least propos remov asap vote remov npov oh wait whole point counter point total offtop belong eg addict selfreferenc link freebas refer back page dont know fix ask someon know',\n",
       " 'pompou juvenil selfaggrand fuck spic',\n",
       " 'utc who shakespear sep',\n",
       " 'alo like ass fuck men swallow men cumand anim ie hors dog sheep ect',\n",
       " 'nt demand anyth specif said urg secretari interior donald p hodel undertak immedi feasibl studi lead recommend drain hetch hetchi reservoir restor hetch hetchi valley call upon interest take openmind long view issu studi assess altern meet need concern altern sourc water power revenu kind hard frame want bomb dam nt also nt mention debat studi matter still ongo frankli qualiti write see edit conservapedia',\n",
       " 'edit refer quot subject articl subject deflat unless oppon truth neiln problem truth',\n",
       " 'speak life broader sens interest per se arrog assum interest keep life leav histori expert whistlersghost',\n",
       " 'newer health studi http wwwmdpicompdf newer studi seem list human health effect includ',\n",
       " 'clear even close read articl starter origins_of_the_name_afghan',\n",
       " 'good tri guy unit kingdom wikipedia club quit reach qualiti level communicaton jza ddstretch say agre snowd agre certainli nt transcend knowledg agreement say pleas state opinion clearli rather make blanket agreement statement wrote clear agre restat pleas specifi need clarifi seem obviou four constitut part get fair share attent articl articl alreadi state citat four part offici divis consid firstord administr divis say histor divis counti parish mention district succeed ecclesiast district ward constitu subnat divis anybodi guess whether latter offici divis rel offici divis vernacular one countri coexist divis countri multiplist complex arrang uk moreov despit statement common stratum administr unit encompass unit kingdom structur scotland england ni wale use common stratum describ local govern structur articl good pretti textbook exampl inconsist clear pleas good administr andor editor specif clarifi thank',\n",
       " 'promo',\n",
       " 'afr rouy quit welcom dude enjoy mop there lot clean',\n",
       " 'delet absolut noth chronolog',\n",
       " 'tee valley madeup name hartlepool neither near tee valley',\n",
       " 'also use seriou sourc thank want add alreadi',\n",
       " 'english edit articl follow english spell o far possibl rather mix englishamericanenglish usag found previous wikipedia convent seem show articl pertain specif english speak countri citizen specif english speak countri follow correct nation varieti english bill clinton obvious requir american english harold pinter british citizen left punctuat appear unresolv argument issu',\n",
       " 'mani holi site even subcontin mount meru indonesia kailash china etc noth need indian origin even may well believ hinduism origin india truli sanatanam dharmam definit origin india human came africa back topic sanskrit univers languag hindu gedong badu oka swami yogananda giri swami ghanananda hindu nonindian leader scholar sanskrit man',\n",
       " 'look wrong one http filozofiawplanethutag_vahtml good one sourc forgot cite cite soon lukac one cite pleas speak person skype someth ad load feel need destroy hour research remov forum sourc add sourc reliabl standard',\n",
       " 'move common stage name inoran keep neutral nt know true name',\n",
       " 'mani sourc equal fact see wp weight wp weasel exampl mani refer tabl yet refer directli northern ireland countri right none say northern ireland contri articl current seem rather limit sens countri mean regard uk constient part obscur use word confus reader nortern ireland countri usual sens word say without qualif rannpairti anaitnid comra',\n",
       " 'fuck selfright creep']"
      ]
     },
     "execution_count": 173,
     "metadata": {},
     "output_type": "execute_result"
    }
   ],
   "source": []
  },
  {
   "cell_type": "code",
   "execution_count": null,
   "metadata": {},
   "outputs": [],
   "source": []
  }
 ],
 "metadata": {
  "file_extension": ".py",
  "kernelspec": {
   "display_name": "Python 3",
   "language": "python",
   "name": "python3"
  },
  "language_info": {
   "codemirror_mode": {
    "name": "ipython",
    "version": 3
   },
   "file_extension": ".py",
   "mimetype": "text/x-python",
   "name": "python",
   "nbconvert_exporter": "python",
   "pygments_lexer": "ipython3",
   "version": "3.6.0"
  },
  "mimetype": "text/x-python",
  "name": "python",
  "npconvert_exporter": "python",
  "pygments_lexer": "ipython3",
  "version": 3
 },
 "nbformat": 4,
 "nbformat_minor": 2
}
