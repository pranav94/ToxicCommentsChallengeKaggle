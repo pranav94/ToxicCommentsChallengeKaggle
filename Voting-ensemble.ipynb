{
 "cells": [
  {
   "cell_type": "code",
   "execution_count": 1,
   "metadata": {},
   "outputs": [],
   "source": [
    "import pandas\n",
    "from sklearn import model_selection\n",
    "from sklearn.linear_model import LogisticRegression\n",
    "from sklearn.tree import DecisionTreeClassifier\n",
    "from sklearn.svm import SVC\n",
    "from sklearn.ensemble import VotingClassifier\n",
    "\n",
    "from sklearn.feature_extraction.text import TfidfVectorizer\n",
    "import matplotlib.pyplot as plt\n",
    "import numpy as np\n",
    "from sklearn.metrics import roc_curve, auc\n",
    "\n",
    "from utils.pickle import load_pickles"
   ]
  },
  {
   "cell_type": "code",
   "execution_count": 2,
   "metadata": {},
   "outputs": [],
   "source": [
    "(\n",
    "    train_x,\n",
    "    valid_x,\n",
    "    test_x,\n",
    "    train_y,\n",
    "    valid_y,\n",
    "    test_y\n",
    ") = load_pickles()"
   ]
  },
  {
   "cell_type": "markdown",
   "metadata": {},
   "source": [
    "### Vectorize features"
   ]
  },
  {
   "cell_type": "code",
   "execution_count": 3,
   "metadata": {},
   "outputs": [],
   "source": [
    "word_vectorizer = TfidfVectorizer(lowercase=False,ngram_range=(1,3),max_features=20000)\n",
    "word_vectorizer = word_vectorizer.fit(train_x)\n",
    "train_features = word_vectorizer.transform(train_x)\n",
    "validation_features = word_vectorizer.transform(valid_x)"
   ]
  },
  {
   "cell_type": "markdown",
   "metadata": {},
   "source": [
    "### Voting ensemble with more optimized hyperparameters"
   ]
  },
  {
   "cell_type": "code",
   "execution_count": 8,
   "metadata": {},
   "outputs": [
    {
     "name": "stderr",
     "output_type": "stream",
     "text": [
      "/Library/Frameworks/Python.framework/Versions/3.7/lib/python3.7/site-packages/sklearn/linear_model/logistic.py:432: FutureWarning: Default solver will be changed to 'lbfgs' in 0.22. Specify a solver to silence this warning.\n",
      "  FutureWarning)\n",
      "/Library/Frameworks/Python.framework/Versions/3.7/lib/python3.7/site-packages/sklearn/svm/base.py:929: ConvergenceWarning: Liblinear failed to converge, increase the number of iterations.\n",
      "  \"the number of iterations.\", ConvergenceWarning)\n",
      "/Library/Frameworks/Python.framework/Versions/3.7/lib/python3.7/site-packages/sklearn/linear_model/logistic.py:432: FutureWarning: Default solver will be changed to 'lbfgs' in 0.22. Specify a solver to silence this warning.\n",
      "  FutureWarning)\n",
      "/Library/Frameworks/Python.framework/Versions/3.7/lib/python3.7/site-packages/sklearn/linear_model/logistic.py:432: FutureWarning: Default solver will be changed to 'lbfgs' in 0.22. Specify a solver to silence this warning.\n",
      "  FutureWarning)\n",
      "/Library/Frameworks/Python.framework/Versions/3.7/lib/python3.7/site-packages/sklearn/svm/base.py:929: ConvergenceWarning: Liblinear failed to converge, increase the number of iterations.\n",
      "  \"the number of iterations.\", ConvergenceWarning)\n",
      "/Library/Frameworks/Python.framework/Versions/3.7/lib/python3.7/site-packages/sklearn/linear_model/logistic.py:432: FutureWarning: Default solver will be changed to 'lbfgs' in 0.22. Specify a solver to silence this warning.\n",
      "  FutureWarning)\n",
      "/Library/Frameworks/Python.framework/Versions/3.7/lib/python3.7/site-packages/sklearn/linear_model/logistic.py:432: FutureWarning: Default solver will be changed to 'lbfgs' in 0.22. Specify a solver to silence this warning.\n",
      "  FutureWarning)\n",
      "/Library/Frameworks/Python.framework/Versions/3.7/lib/python3.7/site-packages/sklearn/svm/base.py:929: ConvergenceWarning: Liblinear failed to converge, increase the number of iterations.\n",
      "  \"the number of iterations.\", ConvergenceWarning)\n",
      "/Library/Frameworks/Python.framework/Versions/3.7/lib/python3.7/site-packages/sklearn/linear_model/logistic.py:432: FutureWarning: Default solver will be changed to 'lbfgs' in 0.22. Specify a solver to silence this warning.\n",
      "  FutureWarning)\n"
     ]
    }
   ],
   "source": [
    "seed = 7\n",
    "kfold = model_selection.KFold(n_splits=10, random_state=seed)\n",
    "\n",
    "val_aucs = []\n",
    "train_aucs = []\n",
    "LR_hyper_params = [{'C': 2.7825594022071245, 'max_iter': 8, 'penalty': 'l2'}, {'C': 1.0, 'max_iter': 20, 'penalty': 'l1'}, {'C': 1.0, 'max_iter': 10, 'penalty': 'l1'}, {'C': 1.0, 'max_iter': 40, 'penalty': 'l1'}, {'C': 464.15888336127773, 'max_iter': 8, 'penalty': 'l2'}, {'C': 1.0, 'max_iter': 20, 'penalty': 'l2'}]\n",
    "\n",
    "for i in range(6):\n",
    "    estimators = [\n",
    "        ('logistic', LogisticRegression(**LR_hyper_params[i])),\n",
    "        ('cart', DecisionTreeClassifier(max_depth=80, min_samples_split=0.3, max_leaf_nodes=80)),\n",
    "        ('svm', SVC(probability=True, gamma='auto'))\n",
    "    ]\n",
    "    classifier = VotingClassifier(estimators, voting='soft', weights=[2,1,1])\n",
    "    classifier = classifier.fit(train_features, train_y[:, i])\n",
    "\n",
    "    valid_y_hat = classifier.predict_proba(validation_features)[:, 1]\n",
    "    fpr, tpr, thresholds = roc_curve(valid_y[:, i], valid_y_hat)\n",
    "    val_aucs.append(auc(fpr, tpr))\n",
    "\n",
    "    train_y_hat = classifier.predict_proba(train_features)[:, 1]\n",
    "    fpr, tpr, thresholds = roc_curve(train_y[:, i], train_y_hat)\n",
    "    train_aucs.append(auc(fpr, tpr))"
   ]
  },
  {
   "cell_type": "code",
   "execution_count": 9,
   "metadata": {},
   "outputs": [
    {
     "name": "stdout",
     "output_type": "stream",
     "text": [
      "Final Validation AUC with optimized hyperparameters: 0.9780675616595312\n",
      "Final Training AUC with optimized hyperparameters: 0.9879593529235565\n"
     ]
    }
   ],
   "source": [
    "print(\"Final Validation AUC with optimized hyperparameters: {}\".format(np.mean(val_aucs)))\n",
    "print(\"Final Training AUC with optimized hyperparameters: {}\".format(np.mean(train_aucs)))"
   ]
  },
  {
   "cell_type": "code",
   "execution_count": null,
   "metadata": {},
   "outputs": [
    {
     "name": "stderr",
     "output_type": "stream",
     "text": [
      "/Library/Frameworks/Python.framework/Versions/3.7/lib/python3.7/site-packages/sklearn/linear_model/logistic.py:432: FutureWarning: Default solver will be changed to 'lbfgs' in 0.22. Specify a solver to silence this warning.\n",
      "  FutureWarning)\n",
      "/Library/Frameworks/Python.framework/Versions/3.7/lib/python3.7/site-packages/sklearn/svm/base.py:929: ConvergenceWarning: Liblinear failed to converge, increase the number of iterations.\n",
      "  \"the number of iterations.\", ConvergenceWarning)\n",
      "/Library/Frameworks/Python.framework/Versions/3.7/lib/python3.7/site-packages/sklearn/linear_model/logistic.py:432: FutureWarning: Default solver will be changed to 'lbfgs' in 0.22. Specify a solver to silence this warning.\n",
      "  FutureWarning)\n",
      "/Library/Frameworks/Python.framework/Versions/3.7/lib/python3.7/site-packages/sklearn/linear_model/logistic.py:432: FutureWarning: Default solver will be changed to 'lbfgs' in 0.22. Specify a solver to silence this warning.\n",
      "  FutureWarning)\n",
      "/Library/Frameworks/Python.framework/Versions/3.7/lib/python3.7/site-packages/sklearn/svm/base.py:929: ConvergenceWarning: Liblinear failed to converge, increase the number of iterations.\n",
      "  \"the number of iterations.\", ConvergenceWarning)\n",
      "/Library/Frameworks/Python.framework/Versions/3.7/lib/python3.7/site-packages/sklearn/linear_model/logistic.py:432: FutureWarning: Default solver will be changed to 'lbfgs' in 0.22. Specify a solver to silence this warning.\n",
      "  FutureWarning)\n",
      "/Library/Frameworks/Python.framework/Versions/3.7/lib/python3.7/site-packages/sklearn/linear_model/logistic.py:432: FutureWarning: Default solver will be changed to 'lbfgs' in 0.22. Specify a solver to silence this warning.\n",
      "  FutureWarning)\n",
      "/Library/Frameworks/Python.framework/Versions/3.7/lib/python3.7/site-packages/sklearn/svm/base.py:929: ConvergenceWarning: Liblinear failed to converge, increase the number of iterations.\n",
      "  \"the number of iterations.\", ConvergenceWarning)\n"
     ]
    }
   ],
   "source": [
    "train_features = word_vectorizer.transform(train_x)\n",
    "test_features = word_vectorizer.transform(test_x)\n",
    "seed = 7\n",
    "kfold = model_selection.KFold(n_splits=10, random_state=seed)\n",
    "\n",
    "val_aucs = []\n",
    "train_aucs = []\n",
    "LR_hyper_params = [{'C': 2.7825594022071245, 'max_iter': 8, 'penalty': 'l2'}, {'C': 1.0, 'max_iter': 20, 'penalty': 'l1'}, {'C': 1.0, 'max_iter': 10, 'penalty': 'l1'}, {'C': 1.0, 'max_iter': 40, 'penalty': 'l1'}, {'C': 464.15888336127773, 'max_iter': 8, 'penalty': 'l2'}, {'C': 1.0, 'max_iter': 20, 'penalty': 'l2'}]\n",
    "\n",
    "for i in range(6):\n",
    "    estimators = [\n",
    "        ('logistic', LogisticRegression(**LR_hyper_params[i])),\n",
    "        ('cart', DecisionTreeClassifier(max_depth=80, min_samples_split=0.3, max_leaf_nodes=80)),\n",
    "        ('svm', SVC(probability=True, gamma='auto'))\n",
    "    ]\n",
    "    classifier = VotingClassifier(estimators, voting='soft', weights=[2,1,1])\n",
    "    classifier = classifier.fit(train_features, train_y[:, i])\n",
    "\n",
    "    test_y_hat = classifier.predict_proba(test_features)[:, 1]\n",
    "    fpr, tpr, thresholds = roc_curve(test_y.values[:, i], test_y_hat)\n",
    "    val_aucs.append(auc(fpr, tpr))\n",
    "\n",
    "    train_y_hat = classifier.predict_proba(train_features)[:, 1]\n",
    "    fpr, tpr, thresholds = roc_curve(train_y[:, i], train_y_hat)\n",
    "    train_aucs.append(auc(fpr, tpr))"
   ]
  }
 ],
 "metadata": {
  "kernelspec": {
   "display_name": "Python 3",
   "language": "python",
   "name": "python3"
  },
  "language_info": {
   "codemirror_mode": {
    "name": "ipython",
    "version": 3
   },
   "file_extension": ".py",
   "mimetype": "text/x-python",
   "name": "python",
   "nbconvert_exporter": "python",
   "pygments_lexer": "ipython3",
   "version": "3.7.0"
  }
 },
 "nbformat": 4,
 "nbformat_minor": 2
}
