{
 "cells": [
  {
   "cell_type": "code",
   "execution_count": 156,
   "metadata": {},
   "outputs": [],
   "source": [
    "import numpy as np\n",
    "import tensorflow as tf\n",
    "from keras.preprocessing.text import Tokenizer\n",
    "from keras.preprocessing.sequence import pad_sequences\n",
    "from keras.layers import Dense, LSTM, Input, Embedding, Dropout, Activation\n",
    "from keras.layers import Bidirectional, GlobalMaxPool1D\n",
    "from keras.models import Model\n",
    "from keras import initializers, regularizers, constraints, optimizers, layers\n",
    "import pandas as pd\n",
    "import nltk\n",
    "from matplotlib import pyplot as plt\n",
    "get_ipython().run_line_magic('matplotlib', 'inline')\n",
    "\n",
    "from utils.data_loader import load_train_data, load_test_data\n"
   ]
  },
  {
   "cell_type": "markdown",
   "metadata": {},
   "source": [
    " ## Data Exploration"
   ]
  },
  {
   "cell_type": "code",
   "execution_count": 157,
   "metadata": {},
   "outputs": [],
   "source": [
    "train_data, valid_data = load_train_data(\"data/train.csv\")\n",
    "loaded_test_data = load_test_data(\"data/test.csv\", \"data/test_labels.csv\")\n",
    "test_data = loaded_test_data[[\"id\", \"comment_text\"]]\n",
    "test_labels = loaded_test_data[\n",
    "    [\n",
    "        \"toxic\", \"severe_toxic\", \"obscene\",\n",
    "        \"threat\", \"insult\", \"identity_hate\"\n",
    "    ]\n",
    "]"
   ]
  },
  {
   "cell_type": "code",
   "execution_count": 158,
   "metadata": {},
   "outputs": [
    {
     "data": {
      "text/plain": [
       "(143645, 15926, 63978)"
      ]
     },
     "execution_count": 158,
     "metadata": {},
     "output_type": "execute_result"
    }
   ],
   "source": [
    "len(train_data), len(valid_data), len(test_data)\n",
    "\n"
   ]
  },
  {
   "cell_type": "code",
   "execution_count": 159,
   "metadata": {},
   "outputs": [
    {
     "data": {
      "text/html": [
       "<div>\n",
       "<style scoped>\n",
       "    .dataframe tbody tr th:only-of-type {\n",
       "        vertical-align: middle;\n",
       "    }\n",
       "\n",
       "    .dataframe tbody tr th {\n",
       "        vertical-align: top;\n",
       "    }\n",
       "\n",
       "    .dataframe thead th {\n",
       "        text-align: right;\n",
       "    }\n",
       "</style>\n",
       "<table border=\"1\" class=\"dataframe\">\n",
       "  <thead>\n",
       "    <tr style=\"text-align: right;\">\n",
       "      <th></th>\n",
       "      <th>id</th>\n",
       "      <th>comment_text</th>\n",
       "      <th>toxic</th>\n",
       "      <th>severe_toxic</th>\n",
       "      <th>obscene</th>\n",
       "      <th>threat</th>\n",
       "      <th>insult</th>\n",
       "      <th>identity_hate</th>\n",
       "    </tr>\n",
       "  </thead>\n",
       "  <tbody>\n",
       "    <tr>\n",
       "      <th>130060</th>\n",
       "      <td>b7bf5a6846bd456a</td>\n",
       "      <td>\"\\n Oppose. WP:MOSTM, the guideline covering t...</td>\n",
       "      <td>0</td>\n",
       "      <td>0</td>\n",
       "      <td>0</td>\n",
       "      <td>0</td>\n",
       "      <td>0</td>\n",
       "      <td>0</td>\n",
       "    </tr>\n",
       "    <tr>\n",
       "      <th>132921</th>\n",
       "      <td>c70efd55724be549</td>\n",
       "      <td>=== I AM GLEN AND I LOVE BEING A FAG===</td>\n",
       "      <td>1</td>\n",
       "      <td>0</td>\n",
       "      <td>0</td>\n",
       "      <td>0</td>\n",
       "      <td>0</td>\n",
       "      <td>0</td>\n",
       "    </tr>\n",
       "    <tr>\n",
       "      <th>46589</th>\n",
       "      <td>7c7f688f129e511e</td>\n",
       "      <td>\"\\n\\nIf it happens it may be worth noting but ...</td>\n",
       "      <td>0</td>\n",
       "      <td>0</td>\n",
       "      <td>0</td>\n",
       "      <td>0</td>\n",
       "      <td>0</td>\n",
       "      <td>0</td>\n",
       "    </tr>\n",
       "    <tr>\n",
       "      <th>129843</th>\n",
       "      <td>b68d08319e5fcb14</td>\n",
       "      <td>}}\\n{{WikiProject Elections and Referendums</td>\n",
       "      <td>0</td>\n",
       "      <td>0</td>\n",
       "      <td>0</td>\n",
       "      <td>0</td>\n",
       "      <td>0</td>\n",
       "      <td>0</td>\n",
       "    </tr>\n",
       "    <tr>\n",
       "      <th>2528</th>\n",
       "      <td>06bf9f58011ca46a</td>\n",
       "      <td>\"\\n\\nI posted a thread about Donny on WP:ANI  ...</td>\n",
       "      <td>0</td>\n",
       "      <td>0</td>\n",
       "      <td>0</td>\n",
       "      <td>0</td>\n",
       "      <td>0</td>\n",
       "      <td>0</td>\n",
       "    </tr>\n",
       "  </tbody>\n",
       "</table>\n",
       "</div>"
      ],
      "text/plain": [
       "                      id                                       comment_text  \\\n",
       "130060  b7bf5a6846bd456a  \"\\n Oppose. WP:MOSTM, the guideline covering t...   \n",
       "132921  c70efd55724be549            === I AM GLEN AND I LOVE BEING A FAG===   \n",
       "46589   7c7f688f129e511e  \"\\n\\nIf it happens it may be worth noting but ...   \n",
       "129843  b68d08319e5fcb14        }}\\n{{WikiProject Elections and Referendums   \n",
       "2528    06bf9f58011ca46a  \"\\n\\nI posted a thread about Donny on WP:ANI  ...   \n",
       "\n",
       "        toxic  severe_toxic  obscene  threat  insult  identity_hate  \n",
       "130060      0             0        0       0       0              0  \n",
       "132921      1             0        0       0       0              0  \n",
       "46589       0             0        0       0       0              0  \n",
       "129843      0             0        0       0       0              0  \n",
       "2528        0             0        0       0       0              0  "
      ]
     },
     "execution_count": 159,
     "metadata": {},
     "output_type": "execute_result"
    }
   ],
   "source": [
    "train_data.head()\n",
    "\n"
   ]
  },
  {
   "cell_type": "code",
   "execution_count": 160,
   "metadata": {},
   "outputs": [
    {
     "data": {
      "text/plain": [
       "130060    b7bf5a6846bd456a\n",
       "132921    c70efd55724be549\n",
       "46589     7c7f688f129e511e\n",
       "129843    b68d08319e5fcb14\n",
       "2528      06bf9f58011ca46a\n",
       "Name: id, dtype: object"
      ]
     },
     "execution_count": 160,
     "metadata": {},
     "output_type": "execute_result"
    }
   ],
   "source": [
    "train_data[\"id\"].head()\n",
    "\n"
   ]
  },
  {
   "cell_type": "code",
   "execution_count": 161,
   "metadata": {},
   "outputs": [
    {
     "data": {
      "text/plain": [
       "False"
      ]
     },
     "execution_count": 161,
     "metadata": {},
     "output_type": "execute_result"
    }
   ],
   "source": [
    "train_data.isnull().values.any()\n",
    "\n"
   ]
  },
  {
   "cell_type": "code",
   "execution_count": 162,
   "metadata": {},
   "outputs": [
    {
     "data": {
      "text/plain": [
       "False"
      ]
     },
     "execution_count": 162,
     "metadata": {},
     "output_type": "execute_result"
    }
   ],
   "source": [
    "test_data.isnull().values.any()\n",
    "\n"
   ]
  },
  {
   "cell_type": "code",
   "execution_count": 163,
   "metadata": {},
   "outputs": [
    {
     "data": {
      "text/plain": [
       "id               False\n",
       "comment_text     False\n",
       "toxic            False\n",
       "severe_toxic     False\n",
       "obscene          False\n",
       "threat           False\n",
       "insult           False\n",
       "identity_hate    False\n",
       "dtype: bool"
      ]
     },
     "execution_count": 163,
     "metadata": {},
     "output_type": "execute_result"
    }
   ],
   "source": [
    "train_data.isnull().any()\n",
    "\n"
   ]
  },
  {
   "cell_type": "code",
   "execution_count": 164,
   "metadata": {},
   "outputs": [
    {
     "data": {
      "text/plain": [
       "id              False\n",
       "comment_text    False\n",
       "dtype: bool"
      ]
     },
     "execution_count": 164,
     "metadata": {},
     "output_type": "execute_result"
    }
   ],
   "source": [
    "test_data.isnull().any()\n",
    "\n"
   ]
  },
  {
   "cell_type": "code",
   "execution_count": 165,
   "metadata": {},
   "outputs": [],
   "source": [
    "classes = [\"toxic\", \"severe_toxic\", \"obscene\",\n",
    "           \"threat\", \"insult\", \"identity_hate\"]\n",
    "train_y = train_data[classes]\n",
    "train_x = train_data[\"comment_text\"]\n",
    "valid_y = valid_data[classes]\n",
    "valid_x = valid_data[\"comment_text\"]\n",
    "test_x = test_data[\"comment_text\"]"
   ]
  },
  {
   "cell_type": "code",
   "execution_count": 166,
   "metadata": {},
   "outputs": [
    {
     "data": {
      "text/plain": [
       "130060    \"\\n Oppose. WP:MOSTM, the guideline covering t...\n",
       "132921              === I AM GLEN AND I LOVE BEING A FAG===\n",
       "46589     \"\\n\\nIf it happens it may be worth noting but ...\n",
       "129843          }}\\n{{WikiProject Elections and Referendums\n",
       "2528      \"\\n\\nI posted a thread about Donny on WP:ANI  ...\n",
       "Name: comment_text, dtype: object"
      ]
     },
     "execution_count": 166,
     "metadata": {},
     "output_type": "execute_result"
    }
   ],
   "source": [
    "train_x.head()"
   ]
  },
  {
   "cell_type": "code",
   "execution_count": 167,
   "metadata": {},
   "outputs": [
    {
     "data": {
      "text/html": [
       "<div>\n",
       "<style scoped>\n",
       "    .dataframe tbody tr th:only-of-type {\n",
       "        vertical-align: middle;\n",
       "    }\n",
       "\n",
       "    .dataframe tbody tr th {\n",
       "        vertical-align: top;\n",
       "    }\n",
       "\n",
       "    .dataframe thead th {\n",
       "        text-align: right;\n",
       "    }\n",
       "</style>\n",
       "<table border=\"1\" class=\"dataframe\">\n",
       "  <thead>\n",
       "    <tr style=\"text-align: right;\">\n",
       "      <th></th>\n",
       "      <th>toxic</th>\n",
       "      <th>severe_toxic</th>\n",
       "      <th>obscene</th>\n",
       "      <th>threat</th>\n",
       "      <th>insult</th>\n",
       "      <th>identity_hate</th>\n",
       "    </tr>\n",
       "  </thead>\n",
       "  <tbody>\n",
       "    <tr>\n",
       "      <th>56041</th>\n",
       "      <td>0</td>\n",
       "      <td>0</td>\n",
       "      <td>0</td>\n",
       "      <td>0</td>\n",
       "      <td>0</td>\n",
       "      <td>0</td>\n",
       "    </tr>\n",
       "    <tr>\n",
       "      <th>147196</th>\n",
       "      <td>0</td>\n",
       "      <td>0</td>\n",
       "      <td>0</td>\n",
       "      <td>0</td>\n",
       "      <td>0</td>\n",
       "      <td>0</td>\n",
       "    </tr>\n",
       "    <tr>\n",
       "      <th>52015</th>\n",
       "      <td>0</td>\n",
       "      <td>0</td>\n",
       "      <td>0</td>\n",
       "      <td>0</td>\n",
       "      <td>0</td>\n",
       "      <td>0</td>\n",
       "    </tr>\n",
       "    <tr>\n",
       "      <th>85372</th>\n",
       "      <td>0</td>\n",
       "      <td>0</td>\n",
       "      <td>0</td>\n",
       "      <td>0</td>\n",
       "      <td>0</td>\n",
       "      <td>0</td>\n",
       "    </tr>\n",
       "    <tr>\n",
       "      <th>78183</th>\n",
       "      <td>0</td>\n",
       "      <td>0</td>\n",
       "      <td>0</td>\n",
       "      <td>0</td>\n",
       "      <td>0</td>\n",
       "      <td>0</td>\n",
       "    </tr>\n",
       "  </tbody>\n",
       "</table>\n",
       "</div>"
      ],
      "text/plain": [
       "        toxic  severe_toxic  obscene  threat  insult  identity_hate\n",
       "56041       0             0        0       0       0              0\n",
       "147196      0             0        0       0       0              0\n",
       "52015       0             0        0       0       0              0\n",
       "85372       0             0        0       0       0              0\n",
       "78183       0             0        0       0       0              0"
      ]
     },
     "execution_count": 167,
     "metadata": {},
     "output_type": "execute_result"
    }
   ],
   "source": [
    "valid_y.head()"
   ]
  },
  {
   "cell_type": "code",
   "execution_count": 168,
   "metadata": {},
   "outputs": [
    {
     "data": {
      "text/plain": [
       "5     Thank you for understanding. I think very high...\n",
       "7                      :Dear god this site is horrible.\n",
       "11    \"::: Somebody will invariably try to add Relig...\n",
       "13    \" \\n\\n It says it right there that it IS a typ...\n",
       "14    \" \\n\\n == Before adding a new product to the l...\n",
       "Name: comment_text, dtype: object"
      ]
     },
     "execution_count": 168,
     "metadata": {},
     "output_type": "execute_result"
    }
   ],
   "source": [
    "test_x.head()"
   ]
  },
  {
   "cell_type": "markdown",
   "metadata": {},
   "source": [
    " ## Data Preprocessing"
   ]
  },
  {
   "cell_type": "code",
   "execution_count": 169,
   "metadata": {},
   "outputs": [],
   "source": [
    "max_words = 20000\n",
    "tokenizer = Tokenizer(num_words=max_words)\n",
    "tokenizer.fit_on_texts(list(train_x))"
   ]
  },
  {
   "cell_type": "code",
   "execution_count": 170,
   "metadata": {},
   "outputs": [],
   "source": [
    "tokenized_train_x = tokenizer.texts_to_sequences(train_x)\n",
    "tokenized_valid_x = tokenizer.texts_to_sequences(valid_x)\n",
    "tokenized_test_x = tokenizer.texts_to_sequences(test_x)"
   ]
  },
  {
   "cell_type": "code",
   "execution_count": 171,
   "metadata": {},
   "outputs": [
    {
     "data": {
      "text/plain": [
       "(143645, 15926, 63978)"
      ]
     },
     "execution_count": 171,
     "metadata": {},
     "output_type": "execute_result"
    }
   ],
   "source": [
    "len(tokenized_train_x), len(tokenized_valid_x), len(tokenized_test_x)"
   ]
  },
  {
   "cell_type": "code",
   "execution_count": 172,
   "metadata": {},
   "outputs": [],
   "source": [
    "maxlen = 200\n",
    "X_train = pad_sequences(tokenized_train_x, maxlen=maxlen)\n",
    "X_valid = pad_sequences(tokenized_valid_x, maxlen=maxlen)\n",
    "X_test = pad_sequences(tokenized_test_x, maxlen=maxlen)"
   ]
  },
  {
   "cell_type": "code",
   "execution_count": 173,
   "metadata": {},
   "outputs": [
    {
     "data": {
      "text/plain": [
       "(143645, 15926, 63978)"
      ]
     },
     "execution_count": 173,
     "metadata": {},
     "output_type": "execute_result"
    }
   ],
   "source": [
    "len(X_train), len(X_valid), len(X_test)"
   ]
  },
  {
   "cell_type": "code",
   "execution_count": 174,
   "metadata": {},
   "outputs": [
    {
     "data": {
      "text/plain": [
       "array([   0,    0,    0,    0,    0,    0,    0,    0,    0,    0,    0,\n",
       "          0,    0,    0,    0,    0,    0,    0,    0,    0,    0,    0,\n",
       "          0,    0,    0,    0,    0,    0,    0,    0,    0,    0,    0,\n",
       "          0,    0,    0,    0,    0,    0,    0,    0,    0,    0,    0,\n",
       "          0,    0,    0,    0,    0,    0,    0,    0,    0,    0,    0,\n",
       "          0,    0,    0,    0,    0,    0,    0,    0,    0,    0,    0,\n",
       "          0,    0,    0,    0,    0,    0,    0,    0,    0,    0,    0,\n",
       "          0,    0,    0,    0,    0,    0,    0,    0,    0,    0,    0,\n",
       "          0,    0,    0,    0,    0,    0,    0,    0,    0,    0,    0,\n",
       "          0,    0,    0,    0,    0,    0,    0,    0,    0,    0,    0,\n",
       "          0,    0,    0,    0,    0,    0,    0,    0,    0,    0,    0,\n",
       "          0,    0,    0,    0,    0,    0,    0,    0,    0,    0,    0,\n",
       "          0,    0,    0,    0,    0,    0,    0,    0,    0,    0,    0,\n",
       "          0,    0,    0,    0,    0,    0,    0,    0,    0,    0,    0,\n",
       "          0,    0,    0,    0,    0,    0,    0,    0,    0,    0,    0,\n",
       "          0,    0,    0,    0,    0,    0,    0,    0,  572,   11,  628,\n",
       "          1, 9384,    2, 2502,   35, 2306,   20,   38,   27,    4,   66,\n",
       "        163,  114, 7048,  912,    7,  478, 1549, 2274, 2862, 1913, 5444,\n",
       "        951, 2168], dtype=int32)"
      ]
     },
     "execution_count": 174,
     "metadata": {},
     "output_type": "execute_result"
    }
   ],
   "source": [
    "X_train[23]"
   ]
  },
  {
   "cell_type": "code",
   "execution_count": 175,
   "metadata": {},
   "outputs": [],
   "source": [
    "total_num_words = [len(one_comment) for one_comment in tokenized_train_x]\n",
    "# total_num_words"
   ]
  },
  {
   "cell_type": "code",
   "execution_count": 176,
   "metadata": {},
   "outputs": [
    {
     "data": {
      "image/png": "[encoded data removed]",
      "text/plain": [
       "<Figure size 432x288 with 1 Axes>"
      ]
     },
     "metadata": {
      "needs_background": "light"
     },
     "output_type": "display_data"
    }
   ],
   "source": [
    "plt.hist(total_num_words, bins=np.arange(0, 410, 10))\n",
    "plt.show()"
   ]
  },
  {
   "cell_type": "code",
   "execution_count": 177,
   "metadata": {},
   "outputs": [
    {
     "data": {
      "text/plain": [
       "'\"\\n Oppose. WP:MOSTM, the guideline covering trademarks and brands, explicitly states not to do this. We don\\'t need articles with titles like REALTOR, TIME, Se7en, Alien³, etc., despite those being their \"\"official\"\" names: these are brandings, and are designed to promote their products. But Wikipedia is not supposed to be promotional. NBC, CBS, and ABC are actual abbreviations, and are pronounced en-bee-cee, cee-bee-ess, ay-bee-cee. A reader who is truly unfamiliar with Fox in this context will end up pronouncing it \"\"eff-oh-ecks\"\".  \"'"
      ]
     },
     "execution_count": 177,
     "metadata": {},
     "output_type": "execute_result"
    }
   ],
   "source": [
    "train_x.iloc[0]"
   ]
  },
  {
   "cell_type": "code",
   "execution_count": 178,
   "metadata": {},
   "outputs": [
    {
     "data": {
      "text/plain": [
       "array([    0,     0,     0,     0,     0,     0,     0,     0,     0,\n",
       "           0,     0,     0,     0,     0,     0,     0,     0,     0,\n",
       "           0,     0,     0,     0,     0,     0,     0,     0,     0,\n",
       "           0,     0,     0,     0,     0,     0,     0,     0,     0,\n",
       "           0,     0,     0,     0,     0,     0,     0,     0,     0,\n",
       "           0,     0,     0,     0,     0,     0,     0,     0,     0,\n",
       "           0,     0,     0,     0,     0,     0,     0,     0,     0,\n",
       "           0,     0,     0,     0,     0,     0,     0,     0,     0,\n",
       "           0,     0,     0,     0,     0,     0,     0,     0,     0,\n",
       "           0,     0,     0,     0,     0,     0,     0,     0,     0,\n",
       "           0,     0,     0,     0,     0,     0,     0,     0,     0,\n",
       "           0,     0,     0,     0,     0,     0,     0,     0,     0,\n",
       "           0,     0,     0,     0,     0,     0,     0,     0,     0,\n",
       "           0,     0,     0,     0,     0,     0,  1597,   114,     1,\n",
       "        1210,  4308,     4, 12717,  2199,   381,    14,     2,    33,\n",
       "          13,    58,    59,   122,    80,    21,  1511,    49,    84,\n",
       "         316,  1099,   142,    90,    91,   544,   529,   112,    19,\n",
       "           4,    19,  2433,     2,  1667,    91,  2483,    26,    29,\n",
       "           8,    14,   925,     2,    16,  2285,  8610,  5869,     4,\n",
       "        4433,    19,   727,  9994,     4,    19,  4468,   454,  7103,\n",
       "        7103, 19813,  7103,     5,  1115,    62,     8,  1545,  5829,\n",
       "          21,  2662,    10,    13,   753,    44,   451,    76,    11,\n",
       "       17620,   399], dtype=int32)"
      ]
     },
     "execution_count": 178,
     "metadata": {},
     "output_type": "execute_result"
    }
   ],
   "source": [
    "X_train[0]"
   ]
  },
  {
   "cell_type": "code",
   "execution_count": null,
   "metadata": {},
   "outputs": [],
   "source": []
  },
  {
   "cell_type": "markdown",
   "metadata": {},
   "source": [
    " ### Clean the data"
   ]
  },
  {
   "cell_type": "code",
   "execution_count": 179,
   "metadata": {},
   "outputs": [
    {
     "name": "stdout",
     "output_type": "stream",
     "text": [
      "The autoreload extension is already loaded. To reload it, use:\n",
      "  %reload_ext autoreload\n",
      "Time: 123.39399600028992\n",
      "Time: 13.92376184463501\n",
      "Time: 81.13263607025146\n"
     ]
    }
   ],
   "source": [
    "%load_ext autoreload\n",
    "%autoreload 2\n",
    "from utils.preprocessing import clean\n",
    "\n",
    "clean_train_x = clean(train_x)\n",
    "clean_valid_x = clean(valid_x)\n",
    "clean_test_x = clean(test_x)"
   ]
  },
  {
   "cell_type": "markdown",
   "metadata": {},
   "source": [
    " ### Stopwords"
   ]
  },
  {
   "cell_type": "code",
   "execution_count": 180,
   "metadata": {},
   "outputs": [
    {
     "name": "stdout",
     "output_type": "stream",
     "text": [
      "The autoreload extension is already loaded. To reload it, use:\n",
      "  %reload_ext autoreload\n"
     ]
    }
   ],
   "source": [
    "%load_ext autoreload\n",
    "%autoreload 2\n",
    "from utils.preprocessing import filter_stop_words\n",
    "filtered_train_x = filter_stop_words(clean_train_x)\n",
    "filtered_valid_x = filter_stop_words(clean_valid_x)\n",
    "filtered_test_x = filter_stop_words(clean_test_x)\n",
    "\n",
    "tokenizer = Tokenizer(num_words=max_words)\n",
    "tokenizer.fit_on_texts(list(filtered_train_x))\n"
   ]
  },
  {
   "cell_type": "code",
   "execution_count": 181,
   "metadata": {},
   "outputs": [],
   "source": [
    "tokenized_train_x = tokenizer.texts_to_sequences(filtered_train_x)\n",
    "tokenized_valid_x = tokenizer.texts_to_sequences(filtered_valid_x)\n",
    "tokenized_test_x = tokenizer.texts_to_sequences(filtered_test_x)\n"
   ]
  },
  {
   "cell_type": "code",
   "execution_count": 182,
   "metadata": {},
   "outputs": [],
   "source": [
    "total_num_words = [len(one_comment) for one_comment in tokenized_train_x]\n",
    "\n"
   ]
  },
  {
   "cell_type": "markdown",
   "metadata": {},
   "source": [
    " Total number of words after removing stopwords."
   ]
  },
  {
   "cell_type": "code",
   "execution_count": 183,
   "metadata": {},
   "outputs": [
    {
     "data": {
      "image/png": "[encoded data removed]",
      "text/plain": [
       "<Figure size 432x288 with 1 Axes>"
      ]
     },
     "metadata": {
      "needs_background": "light"
     },
     "output_type": "display_data"
    }
   ],
   "source": [
    "plt.hist(total_num_words, bins=np.arange(0, 410, 10))\n",
    "plt.show()\n"
   ]
  },
  {
   "cell_type": "markdown",
   "metadata": {},
   "source": [
    " ### Lemmatization"
   ]
  },
  {
   "cell_type": "code",
   "execution_count": 184,
   "metadata": {},
   "outputs": [],
   "source": [
    "%autoreload 2\n",
    "from utils.preprocessing import lemmatize\n",
    "\n",
    "lemmatized_train_x = lemmatize(filtered_train_x)\n",
    "lemmatized_valid_x = lemmatize(filtered_valid_x)\n",
    "lemmatized_test_x = lemmatize(filtered_test_x)\n",
    "\n",
    "tokenizer.fit_on_texts(list(lemmatized_train_x))\n"
   ]
  },
  {
   "cell_type": "code",
   "execution_count": 185,
   "metadata": {},
   "outputs": [],
   "source": [
    "tokenized_train_x = tokenizer.texts_to_sequences(lemmatized_train_x)\n",
    "tokenized_valid_x = tokenizer.texts_to_sequences(lemmatized_valid_x)\n",
    "tokenized_test_x = tokenizer.texts_to_sequences(lemmatized_test_x)"
   ]
  },
  {
   "cell_type": "code",
   "execution_count": 186,
   "metadata": {},
   "outputs": [],
   "source": [
    "total_num_words = [len(one_comment) for one_comment in tokenized_train_x]\n"
   ]
  },
  {
   "cell_type": "markdown",
   "metadata": {},
   "source": [
    " Total number of words after Lemmatization + Stop words correction."
   ]
  },
  {
   "cell_type": "code",
   "execution_count": 187,
   "metadata": {},
   "outputs": [
    {
     "data": {
      "image/png": "[encoded data removed]",
      "text/plain": [
       "<Figure size 432x288 with 1 Axes>"
      ]
     },
     "metadata": {
      "needs_background": "light"
     },
     "output_type": "display_data"
    }
   ],
   "source": [
    "plt.hist(total_num_words, bins=np.arange(0, 410, 10))\n",
    "plt.show()\n"
   ]
  },
  {
   "cell_type": "markdown",
   "metadata": {},
   "source": [
    " ### Stemming"
   ]
  },
  {
   "cell_type": "code",
   "execution_count": 188,
   "metadata": {},
   "outputs": [],
   "source": [
    "%autoreload 2\n",
    "from utils.preprocessing import stem\n",
    "\n",
    "stemmed_train_x = stem(filtered_train_x)\n",
    "stemmed_valid_x = stem(filtered_valid_x)\n",
    "stemmed_test_x = stem(filtered_test_x)\n",
    "\n",
    "tokenizer.fit_on_texts(list(stemmed_train_x))\n"
   ]
  },
  {
   "cell_type": "code",
   "execution_count": 189,
   "metadata": {},
   "outputs": [],
   "source": [
    "tokenized_train_x = tokenizer.texts_to_sequences(stemmed_train_x)\n",
    "tokenized_valid_x = tokenizer.texts_to_sequences(stemmed_valid_x)\n",
    "tokenized_test_x = tokenizer.texts_to_sequences(stemmed_test_x)"
   ]
  },
  {
   "cell_type": "code",
   "execution_count": 190,
   "metadata": {},
   "outputs": [],
   "source": [
    "total_num_words = [len(one_comment) for one_comment in tokenized_train_x]\n"
   ]
  },
  {
   "cell_type": "markdown",
   "metadata": {},
   "source": [
    " Total number of words after Stemming + Stop words correction."
   ]
  },
  {
   "cell_type": "code",
   "execution_count": 191,
   "metadata": {},
   "outputs": [
    {
     "data": {
      "image/png": "[encoded data removed]",
      "text/plain": [
       "<Figure size 432x288 with 1 Axes>"
      ]
     },
     "metadata": {
      "needs_background": "light"
     },
     "output_type": "display_data"
    }
   ],
   "source": [
    "plt.hist(total_num_words, bins=np.arange(0, 410, 10))\n",
    "plt.show()\n"
   ]
  },
  {
   "cell_type": "code",
   "execution_count": 192,
   "metadata": {},
   "outputs": [
    {
     "name": "stdout",
     "output_type": "stream",
     "text": [
      "\"\n",
      "\n",
      "If it happens it may be worth noting but at present in my view it is more like an advert than an encyclopedic entry.  MacDui \" \n",
      "\n",
      " if it happens it may be worth noting but at present in my view it is more like an advert than an encyclopedic entry  macdui  \n",
      "\n",
      "happens may worth noting present view like advert encyclopedic entry macdui \n",
      "\n",
      "happen may worth note present view like advert encyclopedic entry macdui \n",
      "\n",
      "happen may worth note present view like advert encycloped entri macdui \n",
      "\n"
     ]
    }
   ],
   "source": [
    "print(train_x.iloc[2], \"\\n\")\n",
    "print(clean_train_x[2], \"\\n\")\n",
    "print(filtered_train_x[2], \"\\n\")\n",
    "print(lemmatized_train_x[2], \"\\n\")\n",
    "print(stemmed_train_x[2], \"\\n\")\n"
   ]
  },
  {
   "cell_type": "code",
   "execution_count": 193,
   "metadata": {},
   "outputs": [
    {
     "name": "stdout",
     "output_type": "stream",
     "text": [
      "Risk factors\n",
      "\n",
      "The role of chlamydia should be discussed, as with the increasing ectopic pregnancy rate with the increasing chlamydia incidence.   IUDs have also been linked to increased ectopic pregnancy. \n",
      "\n",
      "risk factors role chlamydia discussed increasing ectopic pregnancy rate increasing chlamydia incidence iuds also linked increased ectopic pregnancy \n",
      "\n",
      "risk factor role chlamydia discuss increase ectopic pregnancy rate increase chlamydia incidence iuds also link increase ectopic pregnancy \n",
      "\n",
      "risk factor role chlamydia discuss increas ectop pregnanc rate increas chlamydia incid iud also link increas ectop pregnanc \n",
      "\n"
     ]
    }
   ],
   "source": [
    "print(valid_x.iloc[0], \"\\n\")\n",
    "print(filtered_valid_x[0], \"\\n\")\n",
    "print(lemmatized_valid_x[0], \"\\n\")\n",
    "print(stemmed_valid_x[0], \"\\n\")\n"
   ]
  },
  {
   "cell_type": "code",
   "execution_count": 194,
   "metadata": {},
   "outputs": [
    {
     "name": "stdout",
     "output_type": "stream",
     "text": [
      "143645\n"
     ]
    }
   ],
   "source": [
    "print(len(train_x))"
   ]
  },
  {
   "cell_type": "code",
   "execution_count": 195,
   "metadata": {},
   "outputs": [
    {
     "name": "stdout",
     "output_type": "stream",
     "text": [
      "143645\n"
     ]
    }
   ],
   "source": [
    "print(len(stemmed_train_x))\n"
   ]
  },
  {
   "cell_type": "code",
   "execution_count": 198,
   "metadata": {},
   "outputs": [],
   "source": [
    "x_columns = [\"comment_text\"]\n",
    "y_columns = [\"toxic\", \"severe_toxic\", \"obscene\",\n",
    "           \"threat\", \"insult\", \"identity_hate\"]\n",
    "\n",
    "clean_train_x_2 = pd.DataFrame(clean_train_x, columns = x_columns)\n",
    "filtered_train_x_2 = pd.DataFrame(filtered_train_x, columns = x_columns)\n",
    "lemmatized_train_x_2 = pd.DataFrame(lemmatized_train_x, columns = x_columns)\n",
    "stemmed_train_x_2 = pd.DataFrame(stemmed_train_x, columns = x_columns)"
   ]
  },
  {
   "cell_type": "code",
   "execution_count": null,
   "metadata": {},
   "outputs": [],
   "source": []
  },
  {
   "cell_type": "code",
   "execution_count": 201,
   "metadata": {},
   "outputs": [],
   "source": [
    "clean_valid_x_2 = pd.DataFrame(clean_valid_x, columns = x_columns)\n",
    "filtered_valid_x_2 = pd.DataFrame(filtered_valid_x, columns = x_columns)\n",
    "lemmatized_valid_x_2 = pd.DataFrame(lemmatized_valid_x, columns = x_columns)\n",
    "stemmed_valid_x_2 = pd.DataFrame(stemmed_valid_x, columns = x_columns)"
   ]
  },
  {
   "cell_type": "code",
   "execution_count": 202,
   "metadata": {},
   "outputs": [],
   "source": [
    "clean_test_x_2 = pd.DataFrame(clean_test_x, columns = x_columns)\n",
    "filtered_test_x_2 = pd.DataFrame(filtered_test_x, columns = x_columns)\n",
    "lemmatized_test_x_2 = pd.DataFrame(lemmatized_test_x, columns = x_columns)\n",
    "stemmed_test_x_2 = pd.DataFrame(stemmed_test_x, columns = x_columns)"
   ]
  },
  {
   "cell_type": "code",
   "execution_count": 203,
   "metadata": {},
   "outputs": [],
   "source": [
    "import pickle"
   ]
  },
  {
   "cell_type": "code",
   "execution_count": 204,
   "metadata": {},
   "outputs": [],
   "source": [
    "PATH = \"./pickle\"\n",
    "clean_file = \"cleaned_data.pickle\"\n",
    "lem_file = \"lemmatized_data.pickle\"\n",
    "stem_file = \"stemmed_data.pickle\"\n",
    "\n",
    "file_train = {\n",
    "    \"train_x\": train_x,\n",
    "    \"clean_train_x\": clean_train_x_2,\n",
    "    \"filtered_train_x\": filtered_train_x_2, \n",
    "    \"lemmatized_train_x\": lemmatized_train_x_2, \n",
    "    \"stemmed_train_x\": stemmed_train_x_2,\n",
    "    \"train_y\": train_y,\n",
    "}\n",
    "\n",
    "file_valid = {\n",
    "    \"valid_x\": valid_x,\n",
    "    \"clean_valid_x\": clean_valid_x_2,\n",
    "    \"filtered_valid_x\": filtered_valid_x_2, \n",
    "    \"lemmatized_valid_x\": lemmatized_valid_x_2, \n",
    "    \"stemmed_valid_x\": stemmed_valid_x_2,\n",
    "    \"valid_y\": valid_y,\n",
    "}\n",
    "\n",
    "file_test = {\n",
    "    \"test_x\": test_x,\n",
    "    \"clean_test_x\": clean_test_x_2,\n",
    "    \"filtered_test_x\": filtered_test_x_2, \n",
    "    \"lemmatized_test_x\": lemmatized_test_x_2, \n",
    "    \"stemmed_test_x\": stemmed_test_x_2,\n",
    "    \"test_y\": test_labels,\n",
    "}\n",
    "\n",
    "\n",
    "for file_name in file_train:\n",
    "    with open(\"{}/{}.pickle\".format(PATH, file_name), 'wb') as f:\n",
    "        pickle.dump(file_train[file_name], f)\n",
    "\n",
    "for file_name in file_valid:\n",
    "    with open(\"{}/{}.pickle\".format(PATH, file_name), 'wb') as f:\n",
    "        pickle.dump(file_valid[file_name], f)\n",
    "        \n",
    "for file_name in file_test:\n",
    "    with open(\"{}/{}.pickle\".format(PATH, file_name), 'wb') as f:\n",
    "        pickle.dump(file_test[file_name], f)"
   ]
  },
  {
   "cell_type": "code",
   "execution_count": null,
   "metadata": {},
   "outputs": [],
   "source": []
  },
  {
   "cell_type": "code",
   "execution_count": null,
   "metadata": {},
   "outputs": [],
   "source": []
  }
 ],
 "metadata": {
  "file_extension": ".py",
  "kernelspec": {
   "display_name": "Python 3",
   "language": "python",
   "name": "python3"
  },
  "language_info": {
   "codemirror_mode": {
    "name": "ipython",
    "version": 3
   },
   "file_extension": ".py",
   "mimetype": "text/x-python",
   "name": "python",
   "nbconvert_exporter": "python",
   "pygments_lexer": "ipython3",
   "version": "3.6.0"
  },
  "mimetype": "text/x-python",
  "name": "python",
  "npconvert_exporter": "python",
  "pygments_lexer": "ipython3",
  "version": 3
 },
 "nbformat": 4,
 "nbformat_minor": 2
}
